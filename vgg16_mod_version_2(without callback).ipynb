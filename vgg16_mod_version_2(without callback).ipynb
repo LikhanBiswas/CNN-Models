{
  "nbformat": 4,
  "nbformat_minor": 0,
  "metadata": {
    "colab": {
      "name": "vgg16_mod_version_2.ipynb",
      "provenance": []
    },
    "kernelspec": {
      "name": "python3",
      "display_name": "Python 3"
    },
    "language_info": {
      "name": "python"
    },
    "accelerator": "GPU"
  },
  "cells": [
    {
      "cell_type": "code",
      "metadata": {
        "id": "m6E5dgn6mIC2"
      },
      "source": [
        "from tensorflow.compat.v1 import ConfigProto\n",
        "from tensorflow.compat.v1 import InteractiveSession\n",
        "\n",
        "config = ConfigProto()\n",
        "config.gpu_options.per_process_gpu_memory_fraction = 0.5\n",
        "config.gpu_options.allow_growth = True\n",
        "session = InteractiveSession(config=config)"
      ],
      "execution_count": 1,
      "outputs": []
    },
    {
      "cell_type": "code",
      "metadata": {
        "colab": {
          "base_uri": "https://localhost:8080/"
        },
        "id": "MNPVF4KFmjZi",
        "outputId": "cecac25e-ef42-49b6-b005-a0fdab881085"
      },
      "source": [
        "import tensorflow as tf\n",
        "print(tf.__version__)"
      ],
      "execution_count": 2,
      "outputs": [
        {
          "output_type": "stream",
          "text": [
            "2.5.0\n"
          ],
          "name": "stdout"
        }
      ]
    },
    {
      "cell_type": "code",
      "metadata": {
        "id": "5Q703O6pmvpx"
      },
      "source": [
        "from tensorflow.keras.layers import Input, Lambda, Dense, Flatten\n",
        "from tensorflow.keras.models import Model\n",
        "from tensorflow.keras.applications.vgg16 import VGG16\n",
        "from tensorflow.keras.applications.vgg19 import VGG19\n",
        "from tensorflow.keras.preprocessing import image\n",
        "from tensorflow.keras.preprocessing.image import ImageDataGenerator,load_img\n",
        "from tensorflow.keras.models import Sequential\n",
        "from tensorflow.keras.preprocessing.image import ImageDataGenerator\n",
        "import numpy as np\n",
        "import keras\n",
        "from keras import regularizers\n",
        "from glob import glob\n",
        "from tensorflow.python.keras.layers import Input, Dense"
      ],
      "execution_count": 3,
      "outputs": []
    },
    {
      "cell_type": "code",
      "metadata": {
        "colab": {
          "base_uri": "https://localhost:8080/"
        },
        "id": "tyNh2AkqmzFC",
        "outputId": "68224a1b-c8e3-4805-c3f8-82d05394ac02"
      },
      "source": [
        "from google.colab import drive\n",
        "drive.mount('/content/drive')"
      ],
      "execution_count": 4,
      "outputs": [
        {
          "output_type": "stream",
          "text": [
            "Mounted at /content/drive\n"
          ],
          "name": "stdout"
        }
      ]
    },
    {
      "cell_type": "code",
      "metadata": {
        "id": "Vy-1fsEinGw6"
      },
      "source": [
        "IMAGE_SIZE = [224, 224]"
      ],
      "execution_count": 6,
      "outputs": []
    },
    {
      "cell_type": "code",
      "metadata": {
        "id": "V04_P80PnK1J",
        "colab": {
          "base_uri": "https://localhost:8080/"
        },
        "outputId": "613cfb66-bacf-4edc-af2c-273940e6e2bb"
      },
      "source": [
        "vgg16 = VGG16(input_shape=IMAGE_SIZE + [3], weights='imagenet', include_top=False)\n",
        "#vgg.summary()"
      ],
      "execution_count": 7,
      "outputs": [
        {
          "output_type": "stream",
          "text": [
            "Downloading data from https://storage.googleapis.com/tensorflow/keras-applications/vgg16/vgg16_weights_tf_dim_ordering_tf_kernels_notop.h5\n",
            "58892288/58889256 [==============================] - 1s 0us/step\n"
          ],
          "name": "stdout"
        }
      ]
    },
    {
      "cell_type": "code",
      "metadata": {
        "id": "db7a1D-jnjNq"
      },
      "source": [
        "for layer in vgg16.layers:\n",
        "  layer.trainable = False"
      ],
      "execution_count": 8,
      "outputs": []
    },
    {
      "cell_type": "code",
      "metadata": {
        "id": "O8tlo2FQpSzT"
      },
      "source": [
        "x = Flatten()(vgg16.output)\n",
        "prediction = Dense(1, activation='sigmoid')(x)\n",
        "model = Model(inputs=vgg16.input, outputs=prediction)"
      ],
      "execution_count": 9,
      "outputs": []
    },
    {
      "cell_type": "code",
      "metadata": {
        "id": "toskN2VMr5_K"
      },
      "source": [
        "#model.summary()"
      ],
      "execution_count": 10,
      "outputs": []
    },
    {
      "cell_type": "code",
      "metadata": {
        "id": "cljJ-JbfsGs6"
      },
      "source": [
        "for layer in model.layers:\n",
        "    layer.kernel_regularizer = keras.regularizers.l1_l2(0.001)"
      ],
      "execution_count": 11,
      "outputs": []
    },
    {
      "cell_type": "code",
      "metadata": {
        "id": "5AyIQvL1sPx6"
      },
      "source": [
        "model.compile(\n",
        "  loss='binary_crossentropy',\n",
        "  optimizer='adam',\n",
        "  metrics=['accuracy']\n",
        ")"
      ],
      "execution_count": 12,
      "outputs": []
    },
    {
      "cell_type": "code",
      "metadata": {
        "id": "6V5gH8essZB6"
      },
      "source": [
        "train_path = '/content/drive/MyDrive/real vs fake/NEW_TRAIN_10K'\n",
        "valid_path = '/content/drive/MyDrive/real vs fake/test'"
      ],
      "execution_count": 13,
      "outputs": []
    },
    {
      "cell_type": "code",
      "metadata": {
        "id": "Pe_8KMGBsxaS"
      },
      "source": [
        "train_datagen = ImageDataGenerator(rescale = 1./255,\n",
        "                                   shear_range = 0.3,\n",
        "                                   zoom_range=0.3,\n",
        "                                   rotation_range=90,\n",
        "                                   width_shift_range=0.3,\n",
        "                                   #fill_mode='wrap',\n",
        "                                   height_shift_range=0.3,\n",
        "                                   #channel_shift_range=150.0,\n",
        "                                   brightness_range=(0.1, 0.5),\n",
        "                                   vertical_flip=True,\n",
        "                                   horizontal_flip = True)\n",
        "\n",
        "test_datagen = ImageDataGenerator(rescale = 1./255)"
      ],
      "execution_count": 14,
      "outputs": []
    },
    {
      "cell_type": "code",
      "metadata": {
        "colab": {
          "base_uri": "https://localhost:8080/"
        },
        "id": "SnWkF7R4tUPT",
        "outputId": "5d240f54-fe61-4170-a6a4-f20083cec7c2"
      },
      "source": [
        "training_set = train_datagen.flow_from_directory('/content/drive/MyDrive/real vs fake/NEW_TRAIN_10K',\n",
        "                                                 target_size = (224, 224),\n",
        "                                                 batch_size = 32,\n",
        "                                                 color_mode='rgb',\n",
        "                                                 class_mode = 'binary')"
      ],
      "execution_count": 15,
      "outputs": [
        {
          "output_type": "stream",
          "text": [
            "Found 10000 images belonging to 2 classes.\n"
          ],
          "name": "stdout"
        }
      ]
    },
    {
      "cell_type": "code",
      "metadata": {
        "colab": {
          "base_uri": "https://localhost:8080/"
        },
        "id": "RWgytPC4tqVj",
        "outputId": "eeb0b4dd-6b7d-428f-ff01-9db39c850884"
      },
      "source": [
        "test_set = test_datagen.flow_from_directory('/content/drive/MyDrive/real vs fake/test',\n",
        "                                            target_size = (224, 224),\n",
        "                                            batch_size = 32,\n",
        "                                            color_mode='rgb',\n",
        "                                            class_mode = 'binary')"
      ],
      "execution_count": 16,
      "outputs": [
        {
          "output_type": "stream",
          "text": [
            "Found 3000 images belonging to 2 classes.\n"
          ],
          "name": "stdout"
        }
      ]
    },
    {
      "cell_type": "code",
      "metadata": {
        "colab": {
          "base_uri": "https://localhost:8080/"
        },
        "id": "0iNQ5Ih_t3iM",
        "outputId": "17b25c46-a131-466c-c427-441193d30480"
      },
      "source": [
        "r = model.fit(\n",
        "  training_set,\n",
        "  validation_data=test_set,\n",
        "  epochs=20,\n",
        "  steps_per_epoch=len(training_set),\n",
        "  validation_steps=len(test_set)\n",
        ")"
      ],
      "execution_count": 17,
      "outputs": [
        {
          "output_type": "stream",
          "text": [
            "Epoch 1/20\n",
            "313/313 [==============================] - 3484s 11s/step - loss: 0.3407 - accuracy: 0.8466 - val_loss: 0.8776 - val_accuracy: 0.7053\n",
            "Epoch 2/20\n",
            "313/313 [==============================] - 158s 504ms/step - loss: 0.2373 - accuracy: 0.9014 - val_loss: 0.9693 - val_accuracy: 0.7203\n",
            "Epoch 3/20\n",
            "313/313 [==============================] - 161s 513ms/step - loss: 0.2031 - accuracy: 0.9183 - val_loss: 0.1752 - val_accuracy: 0.9387\n",
            "Epoch 4/20\n",
            "313/313 [==============================] - 158s 506ms/step - loss: 0.1830 - accuracy: 0.9282 - val_loss: 0.4350 - val_accuracy: 0.8687\n",
            "Epoch 5/20\n",
            "313/313 [==============================] - 160s 509ms/step - loss: 0.1769 - accuracy: 0.9300 - val_loss: 0.4340 - val_accuracy: 0.8717\n",
            "Epoch 6/20\n",
            "313/313 [==============================] - 161s 514ms/step - loss: 0.1692 - accuracy: 0.9345 - val_loss: 0.2511 - val_accuracy: 0.9250\n",
            "Epoch 7/20\n",
            "313/313 [==============================] - 164s 523ms/step - loss: 0.1648 - accuracy: 0.9330 - val_loss: 0.3802 - val_accuracy: 0.8937\n",
            "Epoch 8/20\n",
            "313/313 [==============================] - 159s 509ms/step - loss: 0.1428 - accuracy: 0.9459 - val_loss: 0.4548 - val_accuracy: 0.8840\n",
            "Epoch 9/20\n",
            "313/313 [==============================] - 161s 514ms/step - loss: 0.1446 - accuracy: 0.9407 - val_loss: 0.2694 - val_accuracy: 0.9313\n",
            "Epoch 10/20\n",
            "313/313 [==============================] - 158s 505ms/step - loss: 0.1481 - accuracy: 0.9384 - val_loss: 0.2126 - val_accuracy: 0.9460\n",
            "Epoch 11/20\n",
            "313/313 [==============================] - 160s 511ms/step - loss: 0.1307 - accuracy: 0.9482 - val_loss: 0.3982 - val_accuracy: 0.9043\n",
            "Epoch 12/20\n",
            "313/313 [==============================] - 159s 509ms/step - loss: 0.1338 - accuracy: 0.9469 - val_loss: 0.4483 - val_accuracy: 0.8960\n",
            "Epoch 13/20\n",
            "313/313 [==============================] - 159s 509ms/step - loss: 0.1323 - accuracy: 0.9474 - val_loss: 0.4702 - val_accuracy: 0.8930\n",
            "Epoch 14/20\n",
            "313/313 [==============================] - 158s 505ms/step - loss: 0.1393 - accuracy: 0.9459 - val_loss: 0.6085 - val_accuracy: 0.8683\n",
            "Epoch 15/20\n",
            "313/313 [==============================] - 160s 512ms/step - loss: 0.1227 - accuracy: 0.9506 - val_loss: 0.7725 - val_accuracy: 0.8530\n",
            "Epoch 16/20\n",
            "313/313 [==============================] - 158s 505ms/step - loss: 0.1278 - accuracy: 0.9502 - val_loss: 0.5905 - val_accuracy: 0.8783\n",
            "Epoch 17/20\n",
            "313/313 [==============================] - 160s 510ms/step - loss: 0.1214 - accuracy: 0.9512 - val_loss: 0.7919 - val_accuracy: 0.8350\n",
            "Epoch 18/20\n",
            "313/313 [==============================] - 161s 514ms/step - loss: 0.1186 - accuracy: 0.9517 - val_loss: 0.5712 - val_accuracy: 0.8807\n",
            "Epoch 19/20\n",
            "313/313 [==============================] - 159s 508ms/step - loss: 0.1183 - accuracy: 0.9525 - val_loss: 0.3238 - val_accuracy: 0.9277\n",
            "Epoch 20/20\n",
            "313/313 [==============================] - 158s 505ms/step - loss: 0.1235 - accuracy: 0.9527 - val_loss: 0.4861 - val_accuracy: 0.8973\n"
          ],
          "name": "stdout"
        }
      ]
    },
    {
      "cell_type": "code",
      "metadata": {
        "id": "wpNQYQG1vhfD"
      },
      "source": [
        "import matplotlib.pyplot as plt"
      ],
      "execution_count": 1,
      "outputs": []
    },
    {
      "cell_type": "code",
      "metadata": {
        "colab": {
          "base_uri": "https://localhost:8080/",
          "height": 231
        },
        "id": "pRJIevc2vmJ0",
        "outputId": "765df534-f092-4593-b42a-3b9976494296"
      },
      "source": [
        "# plot the loss\n",
        "plt.plot(r.history['loss'], label='train loss')\n",
        "plt.plot(r.history['val_loss'], label='val loss')\n",
        "plt.legend()\n",
        "plt.show()\n",
        "plt.savefig('LossVal_loss')\n",
        "\n",
        "# plot the accuracy\n",
        "plt.plot(r.history['accuracy'], label='train acc')\n",
        "plt.plot(r.history['val_accuracy'], label='val acc')\n",
        "plt.legend()\n",
        "plt.show()\n",
        "plt.savefig('AccVal_acc')"
      ],
      "execution_count": 2,
      "outputs": [
        {
          "output_type": "error",
          "ename": "NameError",
          "evalue": "ignored",
          "traceback": [
            "\u001b[0;31m---------------------------------------------------------------------------\u001b[0m",
            "\u001b[0;31mNameError\u001b[0m                                 Traceback (most recent call last)",
            "\u001b[0;32m<ipython-input-2-bb6bf5bcc936>\u001b[0m in \u001b[0;36m<module>\u001b[0;34m()\u001b[0m\n\u001b[1;32m      1\u001b[0m \u001b[0;31m# plot the loss\u001b[0m\u001b[0;34m\u001b[0m\u001b[0;34m\u001b[0m\u001b[0;34m\u001b[0m\u001b[0m\n\u001b[0;32m----> 2\u001b[0;31m \u001b[0mplt\u001b[0m\u001b[0;34m.\u001b[0m\u001b[0mplot\u001b[0m\u001b[0;34m(\u001b[0m\u001b[0mr\u001b[0m\u001b[0;34m.\u001b[0m\u001b[0mhistory\u001b[0m\u001b[0;34m[\u001b[0m\u001b[0;34m'loss'\u001b[0m\u001b[0;34m]\u001b[0m\u001b[0;34m,\u001b[0m \u001b[0mlabel\u001b[0m\u001b[0;34m=\u001b[0m\u001b[0;34m'train loss'\u001b[0m\u001b[0;34m)\u001b[0m\u001b[0;34m\u001b[0m\u001b[0;34m\u001b[0m\u001b[0m\n\u001b[0m\u001b[1;32m      3\u001b[0m \u001b[0mplt\u001b[0m\u001b[0;34m.\u001b[0m\u001b[0mplot\u001b[0m\u001b[0;34m(\u001b[0m\u001b[0mr\u001b[0m\u001b[0;34m.\u001b[0m\u001b[0mhistory\u001b[0m\u001b[0;34m[\u001b[0m\u001b[0;34m'val_loss'\u001b[0m\u001b[0;34m]\u001b[0m\u001b[0;34m,\u001b[0m \u001b[0mlabel\u001b[0m\u001b[0;34m=\u001b[0m\u001b[0;34m'val loss'\u001b[0m\u001b[0;34m)\u001b[0m\u001b[0;34m\u001b[0m\u001b[0;34m\u001b[0m\u001b[0m\n\u001b[1;32m      4\u001b[0m \u001b[0mplt\u001b[0m\u001b[0;34m.\u001b[0m\u001b[0mlegend\u001b[0m\u001b[0;34m(\u001b[0m\u001b[0;34m)\u001b[0m\u001b[0;34m\u001b[0m\u001b[0;34m\u001b[0m\u001b[0m\n\u001b[1;32m      5\u001b[0m \u001b[0mplt\u001b[0m\u001b[0;34m.\u001b[0m\u001b[0mshow\u001b[0m\u001b[0;34m(\u001b[0m\u001b[0;34m)\u001b[0m\u001b[0;34m\u001b[0m\u001b[0;34m\u001b[0m\u001b[0m\n",
            "\u001b[0;31mNameError\u001b[0m: name 'r' is not defined"
          ]
        }
      ]
    }
  ]
}