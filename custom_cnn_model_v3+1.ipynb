{
  "nbformat": 4,
  "nbformat_minor": 0,
  "metadata": {
    "colab": {
      "name": "custom cnn model v3.ipynb",
      "provenance": [],
      "authorship_tag": "ABX9TyNzZE+t6prpuT3G62J91KH5",
      "include_colab_link": true
    },
    "kernelspec": {
      "name": "python3",
      "display_name": "Python 3"
    },
    "language_info": {
      "name": "python"
    },
    "accelerator": "GPU"
  },
  "cells": [
    {
      "cell_type": "markdown",
      "metadata": {
        "id": "view-in-github",
        "colab_type": "text"
      },
      "source": [
        "<a href=\"https://colab.research.google.com/github/LikhanBiswas/CNN-Models/blob/main/custom_cnn_model_v3%2B1.ipynb\" target=\"_parent\"><img src=\"https://colab.research.google.com/assets/colab-badge.svg\" alt=\"Open In Colab\"/></a>"
      ]
    },
    {
      "cell_type": "code",
      "metadata": {
        "id": "JVaBBQ_1SU4e"
      },
      "source": [
        "from keras.layers import Dense, Flatten, Conv2D, MaxPooling2D, BatchNormalization, GlobalAveragePooling2D\n",
        "from keras.applications.imagenet_utils import preprocess_input\n",
        "from keras.models import Model\n",
        "from keras import models\n",
        "import keras\n",
        "from keras import regularizers"
      ],
      "execution_count": 1,
      "outputs": []
    },
    {
      "cell_type": "code",
      "metadata": {
        "id": "rTxT_hAfaIVs"
      },
      "source": [
        "my_model= models.Sequential()"
      ],
      "execution_count": 2,
      "outputs": []
    },
    {
      "cell_type": "code",
      "metadata": {
        "id": "I_Moxw_5adgc"
      },
      "source": [
        "# Add first convolutional block\n",
        "my_model.add(Conv2D(16, (3, 3), activation='relu', padding='same', input_shape=(215,215,3)))\n",
        "my_model.add(MaxPooling2D((2, 2), strides=(2,2), padding='same'))\n",
        "\n",
        "# second block\n",
        "my_model.add(Conv2D(32, (3, 3), activation='relu', padding='same'))\n",
        "my_model.add(MaxPooling2D((2, 2),strides=(2,2), padding='same'))\n",
        "# third block\n",
        "my_model.add(Conv2D(64, (3, 3), activation='relu', padding='same'))\n",
        "my_model.add(MaxPooling2D((2, 2), strides=(2,2), padding='same'))\n",
        "# fourth block\n",
        "my_model.add(Conv2D(128, (3, 3), activation='relu', padding='same'))\n",
        "my_model.add(MaxPooling2D((2, 2), strides=(2,2), padding='same'))\n",
        "#fifth block\n",
        "my_model.add(Conv2D(128, (3, 3), activation='relu', padding='same'))\n",
        "my_model.add(Conv2D(128, (3, 3), activation='relu', padding='same'))\n",
        "my_model.add(MaxPooling2D((2, 2), strides=(2,2), padding='same'))\n",
        "#sixth block\n",
        "my_model.add(Conv2D(256, (3, 3), activation='relu', padding='same'))\n",
        "my_model.add(Conv2D(256, (3, 3), activation='relu', padding='same'))\n",
        "my_model.add(Conv2D(256, (3, 3), activation='relu', padding='same'))\n",
        "my_model.add(MaxPooling2D((2, 2), strides=(2,2), padding='same'))\n",
        "#seventh block\n",
        "my_model.add(Conv2D(512, (3, 3), activation='relu', padding='same'))\n",
        "my_model.add(Conv2D(512, (3, 3), activation='relu', padding='same'))\n",
        "my_model.add(Conv2D(512, (3, 3), activation='relu', padding='same'))\n",
        "my_model.add(MaxPooling2D((2, 2), strides=(2,2), padding='same'))"
      ],
      "execution_count": 3,
      "outputs": []
    },
    {
      "cell_type": "code",
      "metadata": {
        "id": "VVI-ZuLZcqQq"
      },
      "source": [
        "my_model.add(GlobalAveragePooling2D())\n",
        "# fully connected layer\n",
        "my_model.add(Dense(64, activation='relu'))\n",
        "my_model.add(BatchNormalization())\n",
        "# make predictions\n",
        "my_model.add(Dense(1, activation='sigmoid'))\n"
      ],
      "execution_count": 4,
      "outputs": []
    },
    {
      "cell_type": "code",
      "metadata": {
        "colab": {
          "base_uri": "https://localhost:8080/"
        },
        "id": "xttTiTacc18p",
        "outputId": "51c9a3ce-83e9-464d-b660-93283658acd7"
      },
      "source": [
        "# Show a summary of the model. Check the number of trainable parameters\n",
        "my_model.summary()"
      ],
      "execution_count": 5,
      "outputs": [
        {
          "output_type": "stream",
          "text": [
            "Model: \"sequential\"\n",
            "_________________________________________________________________\n",
            "Layer (type)                 Output Shape              Param #   \n",
            "=================================================================\n",
            "conv2d (Conv2D)              (None, 215, 215, 16)      448       \n",
            "_________________________________________________________________\n",
            "max_pooling2d (MaxPooling2D) (None, 108, 108, 16)      0         \n",
            "_________________________________________________________________\n",
            "conv2d_1 (Conv2D)            (None, 108, 108, 32)      4640      \n",
            "_________________________________________________________________\n",
            "max_pooling2d_1 (MaxPooling2 (None, 54, 54, 32)        0         \n",
            "_________________________________________________________________\n",
            "conv2d_2 (Conv2D)            (None, 54, 54, 64)        18496     \n",
            "_________________________________________________________________\n",
            "max_pooling2d_2 (MaxPooling2 (None, 27, 27, 64)        0         \n",
            "_________________________________________________________________\n",
            "conv2d_3 (Conv2D)            (None, 27, 27, 128)       73856     \n",
            "_________________________________________________________________\n",
            "max_pooling2d_3 (MaxPooling2 (None, 14, 14, 128)       0         \n",
            "_________________________________________________________________\n",
            "conv2d_4 (Conv2D)            (None, 14, 14, 128)       147584    \n",
            "_________________________________________________________________\n",
            "conv2d_5 (Conv2D)            (None, 14, 14, 128)       147584    \n",
            "_________________________________________________________________\n",
            "max_pooling2d_4 (MaxPooling2 (None, 7, 7, 128)         0         \n",
            "_________________________________________________________________\n",
            "conv2d_6 (Conv2D)            (None, 7, 7, 256)         295168    \n",
            "_________________________________________________________________\n",
            "conv2d_7 (Conv2D)            (None, 7, 7, 256)         590080    \n",
            "_________________________________________________________________\n",
            "conv2d_8 (Conv2D)            (None, 7, 7, 256)         590080    \n",
            "_________________________________________________________________\n",
            "max_pooling2d_5 (MaxPooling2 (None, 4, 4, 256)         0         \n",
            "_________________________________________________________________\n",
            "conv2d_9 (Conv2D)            (None, 4, 4, 512)         1180160   \n",
            "_________________________________________________________________\n",
            "conv2d_10 (Conv2D)           (None, 4, 4, 512)         2359808   \n",
            "_________________________________________________________________\n",
            "conv2d_11 (Conv2D)           (None, 4, 4, 512)         2359808   \n",
            "_________________________________________________________________\n",
            "max_pooling2d_6 (MaxPooling2 (None, 2, 2, 512)         0         \n",
            "_________________________________________________________________\n",
            "global_average_pooling2d (Gl (None, 512)               0         \n",
            "_________________________________________________________________\n",
            "dense (Dense)                (None, 64)                32832     \n",
            "_________________________________________________________________\n",
            "batch_normalization (BatchNo (None, 64)                256       \n",
            "_________________________________________________________________\n",
            "dense_1 (Dense)              (None, 1)                 65        \n",
            "=================================================================\n",
            "Total params: 7,800,865\n",
            "Trainable params: 7,800,737\n",
            "Non-trainable params: 128\n",
            "_________________________________________________________________\n"
          ],
          "name": "stdout"
        }
      ]
    },
    {
      "cell_type": "code",
      "metadata": {
        "colab": {
          "base_uri": "https://localhost:8080/"
        },
        "id": "ggVRrBPnek94",
        "outputId": "02e437ba-aa0a-419a-a04c-45ed5d50e4c3"
      },
      "source": [
        "from google.colab import drive\n",
        "drive.mount('/content/drive')"
      ],
      "execution_count": 6,
      "outputs": [
        {
          "output_type": "stream",
          "text": [
            "Mounted at /content/drive\n"
          ],
          "name": "stdout"
        }
      ]
    },
    {
      "cell_type": "code",
      "metadata": {
        "id": "-fpzVNrOioWT"
      },
      "source": [
        "from tensorflow.python.keras.callbacks import EarlyStopping, ModelCheckpoint\n",
        "es=EarlyStopping(monitor='val_loss', mode='min', verbose=1, patience=5)\n",
        "\n",
        "# save best model automatically\n",
        "#mc= ModelCheckpoint('/content/drive/MyDrive/extension/custom_cnn.h5', monitor='val_loss', \n",
        "                    #mode='min', verbose=1, save_best_only=True)\n",
        "#cb_list=[es,mc]"
      ],
      "execution_count": 7,
      "outputs": []
    },
    {
      "cell_type": "code",
      "metadata": {
        "id": "bF-5puLNhw9h"
      },
      "source": [
        "x = Flatten()(my_model.output)\n",
        "prediction = Dense(1, activation='sigmoid')(x)\n"
      ],
      "execution_count": 8,
      "outputs": []
    },
    {
      "cell_type": "code",
      "metadata": {
        "id": "7zeRD5bvhheA"
      },
      "source": [
        "for layer in my_model.layers:\n",
        "    layer.kernel_regularizer = keras.regularizers.l1_l2(0.01)"
      ],
      "execution_count": 9,
      "outputs": []
    },
    {
      "cell_type": "code",
      "metadata": {
        "id": "gcXVG09RdFu5"
      },
      "source": [
        "my_model.compile(optimizer='adam', loss='binary_crossentropy', \n",
        "                 metrics=['accuracy'])"
      ],
      "execution_count": 10,
      "outputs": []
    },
    {
      "cell_type": "code",
      "metadata": {
        "id": "w4Gt8Rz_d8Zj"
      },
      "source": [
        "from tensorflow.python.keras.preprocessing.image import ImageDataGenerator\n",
        "\n",
        "# set up data generator\n",
        "data_generator = ImageDataGenerator(preprocessing_function=preprocess_input)\n"
      ],
      "execution_count": 11,
      "outputs": []
    },
    {
      "cell_type": "code",
      "metadata": {
        "id": "byyH0GyVexUw"
      },
      "source": [
        "train_path = '/content/drive/MyDrive/real vs fake/NEW_TRAIN_10K'\n",
        "valid_path = '/content/drive/MyDrive/real vs fake/test'"
      ],
      "execution_count": 12,
      "outputs": []
    },
    {
      "cell_type": "code",
      "metadata": {
        "id": "3Bb9AnaVfWQw"
      },
      "source": [
        "data_generator = ImageDataGenerator(rescale = 1./255,\n",
        "                                   shear_range = 0.1,\n",
        "                                   zoom_range=0.1,\n",
        "                                   rotation_range=90,\n",
        "                                   width_shift_range=0.1,\n",
        "                                   #fill_mode='wrap',\n",
        "                                   height_shift_range=0.1,\n",
        "                                   #channel_shift_range=150.0,\n",
        "                                   brightness_range=(0.1, 0.5),\n",
        "                                   vertical_flip=True,\n",
        "                                   horizontal_flip = True)\n",
        "\n",
        "test_datagen = ImageDataGenerator(rescale = 1./255)"
      ],
      "execution_count": 13,
      "outputs": []
    },
    {
      "cell_type": "code",
      "metadata": {
        "colab": {
          "base_uri": "https://localhost:8080/"
        },
        "id": "SWghfROSeRbL",
        "outputId": "01e73d61-3d55-4c8c-ea8f-3a182ee6afb8"
      },
      "source": [
        "# get batches of training images from the directory\n",
        "train_generator = data_generator.flow_from_directory(\n",
        "        '/content/drive/MyDrive/real vs fake/NEW_TRAIN_10K',\n",
        "        target_size=(215, 215),\n",
        "        batch_size=16,\n",
        "        class_mode='binary')\n",
        "\n",
        "# get batches of validation images from the directory\n",
        "validation_generator = test_datagen.flow_from_directory(\n",
        "        '/content/drive/MyDrive/real vs fake/test',\n",
        "        target_size=(215, 215),\n",
        "        batch_size=16,\n",
        "        class_mode='binary')"
      ],
      "execution_count": 14,
      "outputs": [
        {
          "output_type": "stream",
          "text": [
            "Found 10000 images belonging to 2 classes.\n",
            "Found 3000 images belonging to 2 classes.\n"
          ],
          "name": "stdout"
        }
      ]
    },
    {
      "cell_type": "code",
      "metadata": {
        "colab": {
          "base_uri": "https://localhost:8080/"
        },
        "id": "Bw_MEi6Mg0cs",
        "outputId": "cbc76464-eee0-4c47-e5c2-a7fe9be6dfda"
      },
      "source": [
        "history = my_model.fit(\n",
        "        train_generator,\n",
        "        epochs=20,\n",
        "        steps_per_epoch=len(train_generator),\n",
        "        validation_data=validation_generator,\n",
        "        validation_steps=667)"
      ],
      "execution_count": 15,
      "outputs": [
        {
          "output_type": "stream",
          "text": [
            "Epoch 1/20\n",
            "625/625 [==============================] - 4301s 7s/step - loss: 0.3146 - accuracy: 0.8652 - val_loss: 0.1113 - val_accuracy: 0.9615\n",
            "Epoch 2/20\n",
            "625/625 [==============================] - 165s 264ms/step - loss: 0.1233 - accuracy: 0.9526 - val_loss: 0.9296 - val_accuracy: 0.7289\n",
            "Epoch 3/20\n",
            "625/625 [==============================] - 164s 263ms/step - loss: 0.0742 - accuracy: 0.9755 - val_loss: 0.0138 - val_accuracy: 0.9955\n",
            "Epoch 4/20\n",
            "625/625 [==============================] - 163s 261ms/step - loss: 0.0570 - accuracy: 0.9820 - val_loss: 0.0176 - val_accuracy: 0.9935\n",
            "Epoch 5/20\n",
            "625/625 [==============================] - 163s 260ms/step - loss: 0.0400 - accuracy: 0.9846 - val_loss: 0.5316 - val_accuracy: 0.8198\n",
            "Epoch 6/20\n",
            "625/625 [==============================] - 162s 259ms/step - loss: 0.0449 - accuracy: 0.9846 - val_loss: 0.0520 - val_accuracy: 0.9857\n",
            "Epoch 7/20\n",
            "625/625 [==============================] - 160s 257ms/step - loss: 0.0494 - accuracy: 0.9833 - val_loss: 1.5636 - val_accuracy: 0.5810\n",
            "Epoch 8/20\n",
            "625/625 [==============================] - 161s 258ms/step - loss: 0.0486 - accuracy: 0.9830 - val_loss: 0.0893 - val_accuracy: 0.9630\n",
            "Epoch 9/20\n",
            "625/625 [==============================] - 161s 258ms/step - loss: 0.0267 - accuracy: 0.9916 - val_loss: 0.0162 - val_accuracy: 0.9941\n",
            "Epoch 10/20\n",
            "625/625 [==============================] - 161s 258ms/step - loss: 0.0462 - accuracy: 0.9851 - val_loss: 10.3529 - val_accuracy: 0.4989\n",
            "Epoch 11/20\n",
            "625/625 [==============================] - 161s 258ms/step - loss: 0.0372 - accuracy: 0.9890 - val_loss: 2.3185 - val_accuracy: 0.5141\n",
            "Epoch 12/20\n",
            "625/625 [==============================] - 160s 257ms/step - loss: 0.0315 - accuracy: 0.9901 - val_loss: 0.6423 - val_accuracy: 0.7662\n",
            "Epoch 13/20\n",
            "625/625 [==============================] - 160s 256ms/step - loss: 0.0302 - accuracy: 0.9898 - val_loss: 0.3737 - val_accuracy: 0.8801\n",
            "Epoch 14/20\n",
            "625/625 [==============================] - 161s 258ms/step - loss: 0.0269 - accuracy: 0.9904 - val_loss: 0.1843 - val_accuracy: 0.9344\n",
            "Epoch 15/20\n",
            "625/625 [==============================] - 160s 257ms/step - loss: 0.0290 - accuracy: 0.9904 - val_loss: 0.0335 - val_accuracy: 0.9904\n",
            "Epoch 16/20\n",
            "625/625 [==============================] - 160s 256ms/step - loss: 0.0230 - accuracy: 0.9917 - val_loss: 0.0180 - val_accuracy: 0.9966\n",
            "Epoch 17/20\n",
            "625/625 [==============================] - 160s 256ms/step - loss: 0.0408 - accuracy: 0.9870 - val_loss: 0.0448 - val_accuracy: 0.9858\n",
            "Epoch 18/20\n",
            "625/625 [==============================] - 160s 256ms/step - loss: 0.0246 - accuracy: 0.9913 - val_loss: 0.0697 - val_accuracy: 0.9726\n",
            "Epoch 19/20\n",
            "625/625 [==============================] - 160s 256ms/step - loss: 0.0300 - accuracy: 0.9898 - val_loss: 0.0405 - val_accuracy: 0.9859\n",
            "Epoch 20/20\n",
            "625/625 [==============================] - 159s 254ms/step - loss: 0.0242 - accuracy: 0.9915 - val_loss: 0.0737 - val_accuracy: 0.9714\n"
          ],
          "name": "stdout"
        }
      ]
    },
    {
      "cell_type": "code",
      "metadata": {
        "id": "NDh9Dy_YgtIN"
      },
      "source": [
        "import matplotlib.pyplot as plt"
      ],
      "execution_count": null,
      "outputs": []
    },
    {
      "cell_type": "code",
      "metadata": {
        "id": "aEjYCte7guEN"
      },
      "source": [
        "plt.plot(history.history['loss'], label='train loss')\n",
        "plt.plot(history.history['val_loss'], label='val loss')\n",
        "plt.legend()\n",
        "plt.show()\n",
        "plt.savefig('LossVal_loss')\n",
        "\n",
        "# plot the accuracy\n",
        "plt.plot(history.history['accuracy'], label='train acc')\n",
        "plt.plot(history.history['val_accuracy'], label='val acc')\n",
        "plt.legend()\n",
        "plt.show()\n",
        "plt.savefig('AccVal_acc')"
      ],
      "execution_count": null,
      "outputs": []
    }
  ]
}