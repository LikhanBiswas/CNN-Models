{
  "nbformat": 4,
  "nbformat_minor": 0,
  "metadata": {
    "colab": {
      "name": "custom cnn model.ipynb",
      "provenance": [],
      "authorship_tag": "ABX9TyNPLO78NV6p3yoosfv45a3p",
      "include_colab_link": true
    },
    "kernelspec": {
      "name": "python3",
      "display_name": "Python 3"
    },
    "language_info": {
      "name": "python"
    },
    "accelerator": "GPU"
  },
  "cells": [
    {
      "cell_type": "markdown",
      "metadata": {
        "id": "view-in-github",
        "colab_type": "text"
      },
      "source": [
        "<a href=\"https://colab.research.google.com/github/LikhanBiswas/CNN-Models/blob/main/custom_cnn_model.ipynb\" target=\"_parent\"><img src=\"https://colab.research.google.com/assets/colab-badge.svg\" alt=\"Open In Colab\"/></a>"
      ]
    },
    {
      "cell_type": "code",
      "metadata": {
        "id": "JVaBBQ_1SU4e"
      },
      "source": [
        "from keras.layers import Dense, Flatten, Conv2D, MaxPooling2D, BatchNormalization, GlobalAveragePooling2D\n",
        "from keras.applications.imagenet_utils import preprocess_input\n",
        "from keras.models import Model\n",
        "from keras import models"
      ],
      "execution_count": null,
      "outputs": []
    },
    {
      "cell_type": "code",
      "metadata": {
        "id": "rTxT_hAfaIVs"
      },
      "source": [
        "my_model= models.Sequential()"
      ],
      "execution_count": null,
      "outputs": []
    },
    {
      "cell_type": "code",
      "metadata": {
        "id": "I_Moxw_5adgc"
      },
      "source": [
        "# Add first convolutional block\n",
        "my_model.add(Conv2D(16, (3, 3), activation='relu', padding='same', input_shape=(215,215,3)))\n",
        "my_model.add(MaxPooling2D((2, 2), strides=(2,2), padding='same'))\n",
        "\n",
        "# second block\n",
        "my_model.add(Conv2D(32, (3, 3), activation='relu', padding='same'))\n",
        "my_model.add(MaxPooling2D((2, 2),strides=(2,2), padding='same'))\n",
        "# third block\n",
        "my_model.add(Conv2D(64, (3, 3), activation='relu', padding='same'))\n",
        "my_model.add(MaxPooling2D((2, 2), strides=(2,2), padding='same'))\n",
        "# fourth block\n",
        "my_model.add(Conv2D(128, (3, 3), activation='relu', padding='same'))\n",
        "my_model.add(MaxPooling2D((2, 2), strides=(2,2), padding='same'))\n",
        "#fifth block\n",
        "my_model.add(Conv2D(128, (3, 3), activation='relu', padding='same'))\n",
        "my_model.add(Conv2D(128, (3, 3), activation='relu', padding='same'))\n",
        "my_model.add(MaxPooling2D((2, 2), strides=(2,2), padding='same'))\n",
        "#sixth block\n",
        "my_model.add(Conv2D(256, (3, 3), activation='relu', padding='same'))\n",
        "my_model.add(Conv2D(256, (3, 3), activation='relu', padding='same'))\n",
        "my_model.add(Conv2D(256, (3, 3), activation='relu', padding='same'))\n",
        "my_model.add(MaxPooling2D((2, 2), strides=(2,2), padding='same'))\n",
        "#seventh block\n",
        "my_model.add(Conv2D(512, (3, 3), activation='relu', padding='same'))\n",
        "my_model.add(Conv2D(512, (3, 3), activation='relu', padding='same'))\n",
        "my_model.add(Conv2D(512, (3, 3), activation='relu', padding='same'))\n",
        "my_model.add(MaxPooling2D((2, 2), strides=(2,2), padding='same'))"
      ],
      "execution_count": null,
      "outputs": []
    },
    {
      "cell_type": "code",
      "metadata": {
        "id": "VVI-ZuLZcqQq"
      },
      "source": [
        "my_model.add(GlobalAveragePooling2D())\n",
        "# fully connected layer\n",
        "my_model.add(Dense(64, activation='relu'))\n",
        "my_model.add(BatchNormalization())\n",
        "# make predictions\n",
        "my_model.add(Dense(1, activation='sigmoid'))\n"
      ],
      "execution_count": null,
      "outputs": []
    },
    {
      "cell_type": "code",
      "metadata": {
        "colab": {
          "base_uri": "https://localhost:8080/"
        },
        "id": "xttTiTacc18p",
        "outputId": "11ac2c43-0913-44e7-dfc3-30780a5095fb"
      },
      "source": [
        "# Show a summary of the model. Check the number of trainable parameters\n",
        "my_model.summary()"
      ],
      "execution_count": null,
      "outputs": [
        {
          "output_type": "stream",
          "text": [
            "Model: \"sequential_1\"\n",
            "_________________________________________________________________\n",
            "Layer (type)                 Output Shape              Param #   \n",
            "=================================================================\n",
            "conv2d_12 (Conv2D)           (None, 215, 215, 16)      448       \n",
            "_________________________________________________________________\n",
            "max_pooling2d_7 (MaxPooling2 (None, 108, 108, 16)      0         \n",
            "_________________________________________________________________\n",
            "conv2d_13 (Conv2D)           (None, 108, 108, 32)      4640      \n",
            "_________________________________________________________________\n",
            "max_pooling2d_8 (MaxPooling2 (None, 54, 54, 32)        0         \n",
            "_________________________________________________________________\n",
            "conv2d_14 (Conv2D)           (None, 54, 54, 64)        18496     \n",
            "_________________________________________________________________\n",
            "max_pooling2d_9 (MaxPooling2 (None, 27, 27, 64)        0         \n",
            "_________________________________________________________________\n",
            "conv2d_15 (Conv2D)           (None, 27, 27, 128)       73856     \n",
            "_________________________________________________________________\n",
            "max_pooling2d_10 (MaxPooling (None, 14, 14, 128)       0         \n",
            "_________________________________________________________________\n",
            "conv2d_16 (Conv2D)           (None, 14, 14, 128)       147584    \n",
            "_________________________________________________________________\n",
            "conv2d_17 (Conv2D)           (None, 14, 14, 128)       147584    \n",
            "_________________________________________________________________\n",
            "max_pooling2d_11 (MaxPooling (None, 7, 7, 128)         0         \n",
            "_________________________________________________________________\n",
            "conv2d_18 (Conv2D)           (None, 7, 7, 256)         295168    \n",
            "_________________________________________________________________\n",
            "conv2d_19 (Conv2D)           (None, 7, 7, 256)         590080    \n",
            "_________________________________________________________________\n",
            "conv2d_20 (Conv2D)           (None, 7, 7, 256)         590080    \n",
            "_________________________________________________________________\n",
            "max_pooling2d_12 (MaxPooling (None, 4, 4, 256)         0         \n",
            "_________________________________________________________________\n",
            "conv2d_21 (Conv2D)           (None, 4, 4, 512)         1180160   \n",
            "_________________________________________________________________\n",
            "conv2d_22 (Conv2D)           (None, 4, 4, 512)         2359808   \n",
            "_________________________________________________________________\n",
            "conv2d_23 (Conv2D)           (None, 4, 4, 512)         2359808   \n",
            "_________________________________________________________________\n",
            "max_pooling2d_13 (MaxPooling (None, 2, 2, 512)         0         \n",
            "_________________________________________________________________\n",
            "global_average_pooling2d_1 ( (None, 512)               0         \n",
            "_________________________________________________________________\n",
            "dense_3 (Dense)              (None, 64)                32832     \n",
            "_________________________________________________________________\n",
            "batch_normalization_1 (Batch (None, 64)                256       \n",
            "_________________________________________________________________\n",
            "dense_4 (Dense)              (None, 1)                 65        \n",
            "=================================================================\n",
            "Total params: 7,800,865\n",
            "Trainable params: 7,800,737\n",
            "Non-trainable params: 128\n",
            "_________________________________________________________________\n"
          ],
          "name": "stdout"
        }
      ]
    },
    {
      "cell_type": "code",
      "metadata": {
        "colab": {
          "base_uri": "https://localhost:8080/"
        },
        "id": "ggVRrBPnek94",
        "outputId": "33d1fd01-bd4d-450b-beaf-102108d7f796"
      },
      "source": [
        "from google.colab import drive\n",
        "drive.mount('/content/drive')"
      ],
      "execution_count": null,
      "outputs": [
        {
          "output_type": "stream",
          "text": [
            "Drive already mounted at /content/drive; to attempt to forcibly remount, call drive.mount(\"/content/drive\", force_remount=True).\n"
          ],
          "name": "stdout"
        }
      ]
    },
    {
      "cell_type": "code",
      "metadata": {
        "id": "-fpzVNrOioWT"
      },
      "source": [
        "from tensorflow.python.keras.callbacks import EarlyStopping, ModelCheckpoint\n",
        "es=EarlyStopping(monitor='val_loss', mode='min', verbose=1, patience=5)\n",
        "\n",
        "# save best model automatically\n",
        "mc= ModelCheckpoint('/content/drive/MyDrive/extension/custom_cnn.h5', monitor='val_loss', \n",
        "                    mode='min', verbose=1, save_best_only=True)\n",
        "cb_list=[es,mc]"
      ],
      "execution_count": null,
      "outputs": []
    },
    {
      "cell_type": "code",
      "metadata": {
        "id": "bF-5puLNhw9h"
      },
      "source": [
        "x = Flatten()(my_model.output)\n",
        "prediction = Dense(1, activation='sigmoid')(x)\n"
      ],
      "execution_count": null,
      "outputs": []
    },
    {
      "cell_type": "code",
      "metadata": {
        "id": "gcXVG09RdFu5"
      },
      "source": [
        "my_model.compile(optimizer='adam', loss='binary_crossentropy', \n",
        "                 metrics=['accuracy'])"
      ],
      "execution_count": null,
      "outputs": []
    },
    {
      "cell_type": "code",
      "metadata": {
        "id": "w4Gt8Rz_d8Zj"
      },
      "source": [
        "from tensorflow.python.keras.preprocessing.image import ImageDataGenerator\n",
        "\n",
        "# set up data generator\n",
        "data_generator = ImageDataGenerator(preprocessing_function=preprocess_input)\n"
      ],
      "execution_count": null,
      "outputs": []
    },
    {
      "cell_type": "code",
      "metadata": {
        "id": "byyH0GyVexUw"
      },
      "source": [
        "train_path = '/content/drive/MyDrive/real vs fake/NEW_TRAIN_10K'\n",
        "valid_path = '/content/drive/MyDrive/real vs fake/test'"
      ],
      "execution_count": null,
      "outputs": []
    },
    {
      "cell_type": "code",
      "metadata": {
        "id": "3Bb9AnaVfWQw"
      },
      "source": [
        "data_generator = ImageDataGenerator(rescale = 1./255,\n",
        "                                   shear_range = 0.1,\n",
        "                                   zoom_range=0.1,\n",
        "                                   rotation_range=90,\n",
        "                                   width_shift_range=0.1,\n",
        "                                   #fill_mode='wrap',\n",
        "                                   height_shift_range=0.1,\n",
        "                                   #channel_shift_range=150.0,\n",
        "                                   brightness_range=(0.1, 0.5),\n",
        "                                   vertical_flip=True,\n",
        "                                   horizontal_flip = True)\n",
        "\n",
        "test_datagen = ImageDataGenerator(rescale = 1./255)"
      ],
      "execution_count": null,
      "outputs": []
    },
    {
      "cell_type": "code",
      "metadata": {
        "colab": {
          "base_uri": "https://localhost:8080/"
        },
        "id": "SWghfROSeRbL",
        "outputId": "14ab7850-9344-4215-e51b-da9ad314f6d0"
      },
      "source": [
        "# get batches of training images from the directory\n",
        "train_generator = data_generator.flow_from_directory(\n",
        "        '/content/drive/MyDrive/real vs fake/NEW_TRAIN_10K',\n",
        "        target_size=(215, 215),\n",
        "        batch_size=16,\n",
        "        class_mode='binary')\n",
        "\n",
        "# get batches of validation images from the directory\n",
        "validation_generator = test_datagen.flow_from_directory(\n",
        "        '/content/drive/MyDrive/real vs fake/test',\n",
        "        target_size=(215, 215),\n",
        "        batch_size=16,\n",
        "        class_mode='binary')"
      ],
      "execution_count": null,
      "outputs": [
        {
          "output_type": "stream",
          "text": [
            "Found 10000 images belonging to 2 classes.\n",
            "Found 3000 images belonging to 2 classes.\n"
          ],
          "name": "stdout"
        }
      ]
    },
    {
      "cell_type": "code",
      "metadata": {
        "colab": {
          "base_uri": "https://localhost:8080/"
        },
        "id": "Bw_MEi6Mg0cs",
        "outputId": "759a9f91-ca5f-442b-e330-a820911ccdfa"
      },
      "source": [
        "history = my_model.fit(\n",
        "        train_generator,\n",
        "        epochs=20,\n",
        "        steps_per_epoch=len(train_generator),\n",
        "        validation_data=validation_generator,\n",
        "        validation_steps=667, callbacks=cb_list)"
      ],
      "execution_count": null,
      "outputs": [
        {
          "output_type": "stream",
          "text": [
            "Epoch 1/20\n",
            "625/625 [==============================] - 1191s 2s/step - loss: 0.0801 - accuracy: 0.9709 - val_loss: 36.9675 - val_accuracy: 0.4992\n",
            "\n",
            "Epoch 00001: val_loss improved from inf to 36.96752, saving model to /content/drive/MyDrive/extension/custom_cnn.h5\n",
            "Epoch 2/20\n",
            "625/625 [==============================] - 163s 262ms/step - loss: 0.0700 - accuracy: 0.9765 - val_loss: 16.6188 - val_accuracy: 0.5025\n",
            "\n",
            "Epoch 00002: val_loss improved from 36.96752 to 16.61884, saving model to /content/drive/MyDrive/extension/custom_cnn.h5\n",
            "Epoch 3/20\n",
            "625/625 [==============================] - 160s 256ms/step - loss: 0.0573 - accuracy: 0.9800 - val_loss: 1.5119 - val_accuracy: 0.5720\n",
            "\n",
            "Epoch 00003: val_loss improved from 16.61884 to 1.51193, saving model to /content/drive/MyDrive/extension/custom_cnn.h5\n",
            "Epoch 4/20\n",
            "625/625 [==============================] - 161s 257ms/step - loss: 0.0541 - accuracy: 0.9811 - val_loss: 14.6001 - val_accuracy: 0.4988\n",
            "\n",
            "Epoch 00004: val_loss did not improve from 1.51193\n",
            "Epoch 5/20\n",
            "625/625 [==============================] - 159s 255ms/step - loss: 0.0506 - accuracy: 0.9816 - val_loss: 3.3564 - val_accuracy: 0.5018\n",
            "\n",
            "Epoch 00005: val_loss did not improve from 1.51193\n",
            "Epoch 6/20\n",
            "625/625 [==============================] - 160s 256ms/step - loss: 0.0559 - accuracy: 0.9805 - val_loss: 2.8587 - val_accuracy: 0.5002\n",
            "\n",
            "Epoch 00006: val_loss did not improve from 1.51193\n",
            "Epoch 7/20\n",
            "625/625 [==============================] - 160s 257ms/step - loss: 0.0519 - accuracy: 0.9828 - val_loss: 11.8397 - val_accuracy: 0.5015\n",
            "\n",
            "Epoch 00007: val_loss did not improve from 1.51193\n",
            "Epoch 8/20\n",
            "625/625 [==============================] - 159s 255ms/step - loss: 0.0414 - accuracy: 0.9853 - val_loss: 8.4289 - val_accuracy: 0.4993\n",
            "\n",
            "Epoch 00008: val_loss did not improve from 1.51193\n",
            "Epoch 00008: early stopping\n"
          ],
          "name": "stdout"
        }
      ]
    }
  ]
}