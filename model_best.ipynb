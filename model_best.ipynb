{
  "nbformat": 4,
  "nbformat_minor": 0,
  "metadata": {
    "colab": {
      "name": "model_best.ipynb",
      "provenance": [],
      "authorship_tag": "ABX9TyMSCmLnHwgp9wf6j3xQDK9E",
      "include_colab_link": true
    },
    "kernelspec": {
      "name": "python3",
      "display_name": "Python 3"
    },
    "language_info": {
      "name": "python"
    },
    "accelerator": "GPU"
  },
  "cells": [
    {
      "cell_type": "markdown",
      "metadata": {
        "id": "view-in-github",
        "colab_type": "text"
      },
      "source": [
        "<a href=\"https://colab.research.google.com/github/LikhanBiswas/CNN-Models/blob/main/model_best.ipynb\" target=\"_parent\"><img src=\"https://colab.research.google.com/assets/colab-badge.svg\" alt=\"Open In Colab\"/></a>"
      ]
    },
    {
      "cell_type": "code",
      "metadata": {
        "colab": {
          "base_uri": "https://localhost:8080/"
        },
        "id": "WwQFf3Rav4Tw",
        "outputId": "2deab187-2acc-43e0-fa7e-5ccfe8d875c0"
      },
      "source": [
        "!pip install extra-keras-metrics\n",
        "from tensorflow.keras.layers import Input, Lambda, Dense, Flatten\n",
        "from tensorflow.keras.models import Model\n",
        "from tensorflow.keras.layers import Conv2D, MaxPooling2D, Activation, Dropout, Flatten, Dense\n",
        "from tensorflow.keras.preprocessing import image\n",
        "from tensorflow.keras.preprocessing.image import ImageDataGenerator,load_img\n",
        "from tensorflow.keras.models import Sequential\n",
        "import numpy as np\n",
        "import tensorflow as tf\n",
        "from tensorflow.keras import regularizers\n",
        "from glob import glob\n",
        "from tensorflow.python.keras.layers import Input, Dense\n",
        "from tensorflow.keras.callbacks import EarlyStopping, ModelCheckpoint, ReduceLROnPlateau\n",
        "from tensorflow.keras.layers import BatchNormalization\n",
        "import extra_keras_metrics as ekm\n",
        "from tensorflow.keras.metrics import Accuracy, Precision, Recall, AUC, BinaryAccuracy, FalsePositives, FalseNegatives, TruePositives, TrueNegatives\n",
        "import pandas as pd\n",
        "import seaborn as sn\n",
        "from sklearn.metrics import confusion_matrix\n",
        "from sklearn.metrics import classification_report\n",
        "import matplotlib.pyplot as plt\n",
        "from keras.models import load_model\n",
        "\n",
        "from keras.models import Sequential"
      ],
      "execution_count": 2,
      "outputs": [
        {
          "output_type": "stream",
          "name": "stdout",
          "text": [
            "Collecting extra-keras-metrics\n",
            "  Downloading extra_keras_metrics-2.0.1.tar.gz (8.3 kB)\n",
            "Requirement already satisfied: tensorflow in /usr/local/lib/python3.7/dist-packages (from extra-keras-metrics) (2.6.0)\n",
            "Requirement already satisfied: decorator in /usr/local/lib/python3.7/dist-packages (from extra-keras-metrics) (4.4.2)\n",
            "Requirement already satisfied: keras-preprocessing~=1.1.2 in /usr/local/lib/python3.7/dist-packages (from tensorflow->extra-keras-metrics) (1.1.2)\n",
            "Requirement already satisfied: tensorflow-estimator~=2.6 in /usr/local/lib/python3.7/dist-packages (from tensorflow->extra-keras-metrics) (2.6.0)\n",
            "Requirement already satisfied: keras~=2.6 in /usr/local/lib/python3.7/dist-packages (from tensorflow->extra-keras-metrics) (2.6.0)\n",
            "Requirement already satisfied: flatbuffers~=1.12.0 in /usr/local/lib/python3.7/dist-packages (from tensorflow->extra-keras-metrics) (1.12)\n",
            "Requirement already satisfied: tensorboard~=2.6 in /usr/local/lib/python3.7/dist-packages (from tensorflow->extra-keras-metrics) (2.6.0)\n",
            "Requirement already satisfied: wrapt~=1.12.1 in /usr/local/lib/python3.7/dist-packages (from tensorflow->extra-keras-metrics) (1.12.1)\n",
            "Requirement already satisfied: gast==0.4.0 in /usr/local/lib/python3.7/dist-packages (from tensorflow->extra-keras-metrics) (0.4.0)\n",
            "Requirement already satisfied: termcolor~=1.1.0 in /usr/local/lib/python3.7/dist-packages (from tensorflow->extra-keras-metrics) (1.1.0)\n",
            "Requirement already satisfied: six~=1.15.0 in /usr/local/lib/python3.7/dist-packages (from tensorflow->extra-keras-metrics) (1.15.0)\n",
            "Requirement already satisfied: wheel~=0.35 in /usr/local/lib/python3.7/dist-packages (from tensorflow->extra-keras-metrics) (0.37.0)\n",
            "Requirement already satisfied: numpy~=1.19.2 in /usr/local/lib/python3.7/dist-packages (from tensorflow->extra-keras-metrics) (1.19.5)\n",
            "Requirement already satisfied: typing-extensions~=3.7.4 in /usr/local/lib/python3.7/dist-packages (from tensorflow->extra-keras-metrics) (3.7.4.3)\n",
            "Requirement already satisfied: astunparse~=1.6.3 in /usr/local/lib/python3.7/dist-packages (from tensorflow->extra-keras-metrics) (1.6.3)\n",
            "Requirement already satisfied: protobuf>=3.9.2 in /usr/local/lib/python3.7/dist-packages (from tensorflow->extra-keras-metrics) (3.17.3)\n",
            "Requirement already satisfied: opt-einsum~=3.3.0 in /usr/local/lib/python3.7/dist-packages (from tensorflow->extra-keras-metrics) (3.3.0)\n",
            "Requirement already satisfied: absl-py~=0.10 in /usr/local/lib/python3.7/dist-packages (from tensorflow->extra-keras-metrics) (0.12.0)\n",
            "Requirement already satisfied: h5py~=3.1.0 in /usr/local/lib/python3.7/dist-packages (from tensorflow->extra-keras-metrics) (3.1.0)\n",
            "Requirement already satisfied: grpcio<2.0,>=1.37.0 in /usr/local/lib/python3.7/dist-packages (from tensorflow->extra-keras-metrics) (1.39.0)\n",
            "Requirement already satisfied: google-pasta~=0.2 in /usr/local/lib/python3.7/dist-packages (from tensorflow->extra-keras-metrics) (0.2.0)\n",
            "Requirement already satisfied: clang~=5.0 in /usr/local/lib/python3.7/dist-packages (from tensorflow->extra-keras-metrics) (5.0)\n",
            "Requirement already satisfied: cached-property in /usr/local/lib/python3.7/dist-packages (from h5py~=3.1.0->tensorflow->extra-keras-metrics) (1.5.2)\n",
            "Requirement already satisfied: tensorboard-data-server<0.7.0,>=0.6.0 in /usr/local/lib/python3.7/dist-packages (from tensorboard~=2.6->tensorflow->extra-keras-metrics) (0.6.1)\n",
            "Requirement already satisfied: markdown>=2.6.8 in /usr/local/lib/python3.7/dist-packages (from tensorboard~=2.6->tensorflow->extra-keras-metrics) (3.3.4)\n",
            "Requirement already satisfied: requests<3,>=2.21.0 in /usr/local/lib/python3.7/dist-packages (from tensorboard~=2.6->tensorflow->extra-keras-metrics) (2.23.0)\n",
            "Requirement already satisfied: werkzeug>=0.11.15 in /usr/local/lib/python3.7/dist-packages (from tensorboard~=2.6->tensorflow->extra-keras-metrics) (1.0.1)\n",
            "Requirement already satisfied: google-auth-oauthlib<0.5,>=0.4.1 in /usr/local/lib/python3.7/dist-packages (from tensorboard~=2.6->tensorflow->extra-keras-metrics) (0.4.5)\n",
            "Requirement already satisfied: google-auth<2,>=1.6.3 in /usr/local/lib/python3.7/dist-packages (from tensorboard~=2.6->tensorflow->extra-keras-metrics) (1.34.0)\n",
            "Requirement already satisfied: tensorboard-plugin-wit>=1.6.0 in /usr/local/lib/python3.7/dist-packages (from tensorboard~=2.6->tensorflow->extra-keras-metrics) (1.8.0)\n",
            "Requirement already satisfied: setuptools>=41.0.0 in /usr/local/lib/python3.7/dist-packages (from tensorboard~=2.6->tensorflow->extra-keras-metrics) (57.4.0)\n",
            "Requirement already satisfied: rsa<5,>=3.1.4 in /usr/local/lib/python3.7/dist-packages (from google-auth<2,>=1.6.3->tensorboard~=2.6->tensorflow->extra-keras-metrics) (4.7.2)\n",
            "Requirement already satisfied: cachetools<5.0,>=2.0.0 in /usr/local/lib/python3.7/dist-packages (from google-auth<2,>=1.6.3->tensorboard~=2.6->tensorflow->extra-keras-metrics) (4.2.2)\n",
            "Requirement already satisfied: pyasn1-modules>=0.2.1 in /usr/local/lib/python3.7/dist-packages (from google-auth<2,>=1.6.3->tensorboard~=2.6->tensorflow->extra-keras-metrics) (0.2.8)\n",
            "Requirement already satisfied: requests-oauthlib>=0.7.0 in /usr/local/lib/python3.7/dist-packages (from google-auth-oauthlib<0.5,>=0.4.1->tensorboard~=2.6->tensorflow->extra-keras-metrics) (1.3.0)\n",
            "Requirement already satisfied: importlib-metadata in /usr/local/lib/python3.7/dist-packages (from markdown>=2.6.8->tensorboard~=2.6->tensorflow->extra-keras-metrics) (4.6.4)\n",
            "Requirement already satisfied: pyasn1<0.5.0,>=0.4.6 in /usr/local/lib/python3.7/dist-packages (from pyasn1-modules>=0.2.1->google-auth<2,>=1.6.3->tensorboard~=2.6->tensorflow->extra-keras-metrics) (0.4.8)\n",
            "Requirement already satisfied: certifi>=2017.4.17 in /usr/local/lib/python3.7/dist-packages (from requests<3,>=2.21.0->tensorboard~=2.6->tensorflow->extra-keras-metrics) (2021.5.30)\n",
            "Requirement already satisfied: urllib3!=1.25.0,!=1.25.1,<1.26,>=1.21.1 in /usr/local/lib/python3.7/dist-packages (from requests<3,>=2.21.0->tensorboard~=2.6->tensorflow->extra-keras-metrics) (1.24.3)\n",
            "Requirement already satisfied: idna<3,>=2.5 in /usr/local/lib/python3.7/dist-packages (from requests<3,>=2.21.0->tensorboard~=2.6->tensorflow->extra-keras-metrics) (2.10)\n",
            "Requirement already satisfied: chardet<4,>=3.0.2 in /usr/local/lib/python3.7/dist-packages (from requests<3,>=2.21.0->tensorboard~=2.6->tensorflow->extra-keras-metrics) (3.0.4)\n",
            "Requirement already satisfied: oauthlib>=3.0.0 in /usr/local/lib/python3.7/dist-packages (from requests-oauthlib>=0.7.0->google-auth-oauthlib<0.5,>=0.4.1->tensorboard~=2.6->tensorflow->extra-keras-metrics) (3.1.1)\n",
            "Requirement already satisfied: zipp>=0.5 in /usr/local/lib/python3.7/dist-packages (from importlib-metadata->markdown>=2.6.8->tensorboard~=2.6->tensorflow->extra-keras-metrics) (3.5.0)\n",
            "Building wheels for collected packages: extra-keras-metrics\n",
            "  Building wheel for extra-keras-metrics (setup.py) ... \u001b[?25l\u001b[?25hdone\n",
            "  Created wheel for extra-keras-metrics: filename=extra_keras_metrics-2.0.1-py3-none-any.whl size=13970 sha256=6e46243f0dbcd04605aa9e8d62457be2893d79a1aaf33bb1ad73b7a1c515934a\n",
            "  Stored in directory: /root/.cache/pip/wheels/52/de/56/ea1d10e8eaf78da501de7070181fc200ec4af3993b17d9b627\n",
            "Successfully built extra-keras-metrics\n",
            "Installing collected packages: extra-keras-metrics\n",
            "Successfully installed extra-keras-metrics-2.0.1\n"
          ]
        }
      ]
    },
    {
      "cell_type": "code",
      "metadata": {
        "colab": {
          "base_uri": "https://localhost:8080/"
        },
        "id": "lzeNnxynv_Eh",
        "outputId": "92aa62f9-03f7-4359-9827-10473f2aec16"
      },
      "source": [
        "from google.colab import drive\n",
        "drive.mount('/content/drive')\n",
        "train_path = '/content/drive/MyDrive/real vs fake/NEW_TRAIN_10K'\n",
        "valid_path = '/content/drive/MyDrive/real vs fake/test'"
      ],
      "execution_count": 3,
      "outputs": [
        {
          "output_type": "stream",
          "name": "stdout",
          "text": [
            "Mounted at /content/drive\n"
          ]
        }
      ]
    },
    {
      "cell_type": "code",
      "metadata": {
        "id": "0aJoT6XtwQmR"
      },
      "source": [
        "IMAGE_SIZE = [256, 256]"
      ],
      "execution_count": 4,
      "outputs": []
    },
    {
      "cell_type": "code",
      "metadata": {
        "id": "wnZMXW_pwbfp"
      },
      "source": [
        "batch_dim = -1"
      ],
      "execution_count": 5,
      "outputs": []
    },
    {
      "cell_type": "code",
      "metadata": {
        "colab": {
          "base_uri": "https://localhost:8080/"
        },
        "id": "fTGjNC3jwd65",
        "outputId": "66897d5c-18a6-49be-e587-55a1b50fb872"
      },
      "source": [
        "model = Sequential()\n",
        "model.add(Conv2D(32, (3, 3), input_shape=IMAGE_SIZE + [3], bias_regularizer=tf.keras.regularizers.l1(l1=0.00001), activation='relu'))\n",
        "model.add(BatchNormalization(axis=batch_dim))\n",
        "model.add(MaxPooling2D(pool_size=(2, 2)))\n",
        "\n",
        "model.add(Conv2D(64, (3, 3),   bias_regularizer=tf.keras.regularizers.l1(l1=0.00001), activation='relu'))\n",
        "model.add(BatchNormalization(axis=batch_dim))\n",
        "model.add(MaxPooling2D(pool_size=(2, 2)))\n",
        "\n",
        "model.add(Conv2D(128, (3, 3),  bias_regularizer=tf.keras.regularizers.l1(l1=0.00001), activation='relu'))\n",
        "model.add(BatchNormalization(axis=batch_dim))\n",
        "model.add(MaxPooling2D(pool_size=(2, 2)))\n",
        "\n",
        "model.add(Conv2D(128, (3, 3),   bias_regularizer=tf.keras.regularizers.l1(l1=0.00001), activation='relu'))\n",
        "model.add(BatchNormalization(axis=batch_dim))\n",
        "model.add(MaxPooling2D(pool_size=(2, 2)))\n",
        "\n",
        "model.add(Conv2D(64, (3, 3),   bias_regularizer=tf.keras.regularizers.l1(l1=0.00001), activation='relu'))\n",
        "model.add(BatchNormalization(axis=batch_dim))\n",
        "model.add(MaxPooling2D(pool_size=(2, 2)))\n",
        "\n",
        "model.add(Flatten())\n",
        "model.add(Dense(512, activation='relu'))\n",
        "model.add(BatchNormalization(axis=batch_dim))\n",
        "\n",
        "model.add(Dense(64, activation='relu'))\n",
        "model.add(BatchNormalization(axis=batch_dim))\n",
        "#model.add(Dropout(0.1))\n",
        "\n",
        "model.add(Dense(1))\n",
        "model.add(Activation(activation='sigmoid'))\n",
        "\n",
        "\n",
        "# view the structure of the model\n",
        "model.summary()"
      ],
      "execution_count": 7,
      "outputs": [
        {
          "output_type": "stream",
          "name": "stdout",
          "text": [
            "Model: \"sequential_1\"\n",
            "_________________________________________________________________\n",
            "Layer (type)                 Output Shape              Param #   \n",
            "=================================================================\n",
            "conv2d (Conv2D)              (None, 254, 254, 32)      896       \n",
            "_________________________________________________________________\n",
            "batch_normalization (BatchNo (None, 254, 254, 32)      128       \n",
            "_________________________________________________________________\n",
            "max_pooling2d (MaxPooling2D) (None, 127, 127, 32)      0         \n",
            "_________________________________________________________________\n",
            "conv2d_1 (Conv2D)            (None, 125, 125, 64)      18496     \n",
            "_________________________________________________________________\n",
            "batch_normalization_1 (Batch (None, 125, 125, 64)      256       \n",
            "_________________________________________________________________\n",
            "max_pooling2d_1 (MaxPooling2 (None, 62, 62, 64)        0         \n",
            "_________________________________________________________________\n",
            "conv2d_2 (Conv2D)            (None, 60, 60, 128)       73856     \n",
            "_________________________________________________________________\n",
            "batch_normalization_2 (Batch (None, 60, 60, 128)       512       \n",
            "_________________________________________________________________\n",
            "max_pooling2d_2 (MaxPooling2 (None, 30, 30, 128)       0         \n",
            "_________________________________________________________________\n",
            "conv2d_3 (Conv2D)            (None, 28, 28, 128)       147584    \n",
            "_________________________________________________________________\n",
            "batch_normalization_3 (Batch (None, 28, 28, 128)       512       \n",
            "_________________________________________________________________\n",
            "max_pooling2d_3 (MaxPooling2 (None, 14, 14, 128)       0         \n",
            "_________________________________________________________________\n",
            "conv2d_4 (Conv2D)            (None, 12, 12, 64)        73792     \n",
            "_________________________________________________________________\n",
            "batch_normalization_4 (Batch (None, 12, 12, 64)        256       \n",
            "_________________________________________________________________\n",
            "max_pooling2d_4 (MaxPooling2 (None, 6, 6, 64)          0         \n",
            "_________________________________________________________________\n",
            "flatten (Flatten)            (None, 2304)              0         \n",
            "_________________________________________________________________\n",
            "module_wrapper (ModuleWrappe (None, 512)               1180160   \n",
            "_________________________________________________________________\n",
            "batch_normalization_5 (Batch (None, 512)               2048      \n",
            "_________________________________________________________________\n",
            "module_wrapper_1 (ModuleWrap (None, 64)                32832     \n",
            "_________________________________________________________________\n",
            "batch_normalization_6 (Batch (None, 64)                256       \n",
            "_________________________________________________________________\n",
            "module_wrapper_2 (ModuleWrap (None, 1)                 65        \n",
            "_________________________________________________________________\n",
            "activation (Activation)      (None, 1)                 0         \n",
            "=================================================================\n",
            "Total params: 1,531,649\n",
            "Trainable params: 1,529,665\n",
            "Non-trainable params: 1,984\n",
            "_________________________________________________________________\n"
          ]
        }
      ]
    },
    {
      "cell_type": "code",
      "metadata": {
        "id": "DnwmNA42yIoy"
      },
      "source": [
        "callbacks = [\n",
        "    # EarlyStopping(patience=10, verbose=1),\n",
        "    ReduceLROnPlateau(factor=0.1, patience=5, min_lr=0.000001, verbose=1),\n",
        "    \n",
        "] "
      ],
      "execution_count": 8,
      "outputs": []
    },
    {
      "cell_type": "code",
      "metadata": {
        "id": "-MerGRObyPko"
      },
      "source": [
        "model.compile(\n",
        "  loss='binary_crossentropy',\n",
        "  optimizer='adam',\n",
        "  metrics='accuracy'\n",
        "  )\n"
      ],
      "execution_count": 9,
      "outputs": []
    },
    {
      "cell_type": "code",
      "metadata": {
        "id": "cVbVK9efydfv"
      },
      "source": [
        "train_datagen = ImageDataGenerator(rescale = 1./255,\n",
        "                                   shear_range = 0.2,\n",
        "                                   zoom_range = 0.2,\n",
        "                                   rotation_range=90,\n",
        "                                   width_shift_range=0.3,\n",
        "                                   #fill_mode='wrap',\n",
        "                                   height_shift_range=0.3,\n",
        "                                   #channel_shift_range=150.0,\n",
        "                                   brightness_range=(0.1, 0.5),\n",
        "                                   vertical_flip=True,\n",
        "                                   horizontal_flip = True)\n",
        "\n",
        "test_datagen = ImageDataGenerator(rescale = 1./255)\n"
      ],
      "execution_count": 10,
      "outputs": []
    },
    {
      "cell_type": "code",
      "metadata": {
        "colab": {
          "base_uri": "https://localhost:8080/"
        },
        "id": "Y5s8gKWqyhj3",
        "outputId": "9c5171e5-2249-44f0-d330-b9aef2388169"
      },
      "source": [
        "training_set = train_datagen.flow_from_directory('/content/drive/MyDrive/real vs fake/NEW_TRAIN_10K',\n",
        "                                                 target_size = (256, 256),\n",
        "                                                 batch_size = 20,\n",
        "                                                 color_mode='rgb',\n",
        "                                                 class_mode = 'binary')\n",
        "\n",
        "test_set = test_datagen.flow_from_directory('/content/drive/MyDrive/real vs fake/test',\n",
        "                                            target_size = (256, 256),\n",
        "                                            batch_size = 20,\n",
        "                                            color_mode='rgb',\n",
        "                                            class_mode = 'binary')"
      ],
      "execution_count": 12,
      "outputs": [
        {
          "output_type": "stream",
          "name": "stdout",
          "text": [
            "Found 10000 images belonging to 2 classes.\n",
            "Found 3000 images belonging to 2 classes.\n"
          ]
        }
      ]
    },
    {
      "cell_type": "code",
      "metadata": {
        "colab": {
          "base_uri": "https://localhost:8080/"
        },
        "id": "7ypZ_S3dzK0o",
        "outputId": "4964fd19-582f-4358-d60b-46d88627547e"
      },
      "source": [
        "r = model.fit(\n",
        "  training_set,\n",
        "  validation_data=test_set,\n",
        "  epochs=20,\n",
        "  steps_per_epoch=len(training_set),\n",
        "  validation_steps=len(test_set),\n",
        "  verbose=1,\n",
        "  callbacks=callbacks\n",
        ")\n"
      ],
      "execution_count": 13,
      "outputs": [
        {
          "output_type": "stream",
          "name": "stdout",
          "text": [
            "Epoch 1/20\n",
            "500/500 [==============================] - 2962s 6s/step - loss: 0.2443 - accuracy: 0.9011 - val_loss: 0.2532 - val_accuracy: 0.8887\n",
            "Epoch 2/20\n",
            "500/500 [==============================] - 233s 467ms/step - loss: 0.1022 - accuracy: 0.9632 - val_loss: 0.0775 - val_accuracy: 0.9673\n",
            "Epoch 3/20\n",
            "500/500 [==============================] - 245s 489ms/step - loss: 0.0695 - accuracy: 0.9753 - val_loss: 0.1817 - val_accuracy: 0.9507\n",
            "Epoch 4/20\n",
            "500/500 [==============================] - 244s 488ms/step - loss: 0.0518 - accuracy: 0.9809 - val_loss: 0.8183 - val_accuracy: 0.8150\n",
            "Epoch 5/20\n",
            "500/500 [==============================] - 245s 490ms/step - loss: 0.0615 - accuracy: 0.9791 - val_loss: 0.1452 - val_accuracy: 0.9660\n",
            "Epoch 6/20\n",
            "500/500 [==============================] - 246s 491ms/step - loss: 0.0438 - accuracy: 0.9848 - val_loss: 0.0596 - val_accuracy: 0.9873\n",
            "Epoch 7/20\n",
            "500/500 [==============================] - 217s 433ms/step - loss: 0.0400 - accuracy: 0.9873 - val_loss: 0.0720 - val_accuracy: 0.9783\n",
            "Epoch 8/20\n",
            "500/500 [==============================] - 216s 431ms/step - loss: 0.0407 - accuracy: 0.9862 - val_loss: 0.1836 - val_accuracy: 0.9547\n",
            "Epoch 9/20\n",
            "500/500 [==============================] - 215s 431ms/step - loss: 0.0369 - accuracy: 0.9884 - val_loss: 0.2709 - val_accuracy: 0.9630\n",
            "Epoch 10/20\n",
            "500/500 [==============================] - 216s 431ms/step - loss: 0.0347 - accuracy: 0.9888 - val_loss: 0.1804 - val_accuracy: 0.9583\n",
            "Epoch 11/20\n",
            "500/500 [==============================] - 214s 428ms/step - loss: 0.0330 - accuracy: 0.9882 - val_loss: 0.4592 - val_accuracy: 0.8913\n",
            "\n",
            "Epoch 00011: ReduceLROnPlateau reducing learning rate to 0.00010000000474974513.\n",
            "Epoch 12/20\n",
            "500/500 [==============================] - 212s 423ms/step - loss: 0.0185 - accuracy: 0.9947 - val_loss: 0.0361 - val_accuracy: 0.9897\n",
            "Epoch 13/20\n",
            "500/500 [==============================] - 212s 424ms/step - loss: 0.0166 - accuracy: 0.9956 - val_loss: 0.0475 - val_accuracy: 0.9873\n",
            "Epoch 14/20\n",
            "500/500 [==============================] - 212s 425ms/step - loss: 0.0174 - accuracy: 0.9948 - val_loss: 0.0552 - val_accuracy: 0.9857\n",
            "Epoch 15/20\n",
            "500/500 [==============================] - 214s 428ms/step - loss: 0.0124 - accuracy: 0.9970 - val_loss: 0.0385 - val_accuracy: 0.9913\n",
            "Epoch 16/20\n",
            "500/500 [==============================] - 216s 432ms/step - loss: 0.0115 - accuracy: 0.9971 - val_loss: 0.0532 - val_accuracy: 0.9887\n",
            "Epoch 17/20\n",
            "500/500 [==============================] - 218s 435ms/step - loss: 0.0118 - accuracy: 0.9961 - val_loss: 0.0176 - val_accuracy: 0.9967\n",
            "Epoch 18/20\n",
            "500/500 [==============================] - 229s 457ms/step - loss: 0.0093 - accuracy: 0.9971 - val_loss: 0.0234 - val_accuracy: 0.9963\n",
            "Epoch 19/20\n",
            "500/500 [==============================] - 225s 449ms/step - loss: 0.0166 - accuracy: 0.9956 - val_loss: 0.0220 - val_accuracy: 0.9950\n",
            "Epoch 20/20\n",
            "500/500 [==============================] - 229s 459ms/step - loss: 0.0120 - accuracy: 0.9965 - val_loss: 0.0936 - val_accuracy: 0.9760\n"
          ]
        }
      ]
    },
    {
      "cell_type": "code",
      "metadata": {
        "colab": {
          "base_uri": "https://localhost:8080/",
          "height": 573
        },
        "id": "eYGM3sTmQUtn",
        "outputId": "b29f2685-2cee-4c54-abfc-5363a1b51f55"
      },
      "source": [
        "from matplotlib import pyplot\n",
        "#Graphing our training and validation\n",
        "acc = r.history['accuracy']\n",
        "val_acc = r.history['val_accuracy']\n",
        "loss = r.history['loss']\n",
        "val_loss = r.history['val_loss']\n",
        "epochs = range(len(acc))\n",
        "from matplotlib import pyplot\n",
        "plt.plot(epochs, acc, 'r', label=' accuracy')\n",
        "plt.plot(epochs, val_acc, 'b', label='Val_accuracy')\n",
        "plt.title('Training and validation accuracy')\n",
        "plt.ylabel('accuracy') \n",
        "plt.xlabel('epoch')\n",
        "plt.legend()\n",
        "plt.figure()\n",
        "plt.plot(epochs, loss, 'r', label='Training loss')\n",
        "plt.plot(epochs, val_loss, 'b', label='Validation loss')\n",
        "plt.title('Training and validation loss')\n",
        "plt.ylabel('loss') \n",
        "plt.xlabel('epoch')\n",
        "plt.legend()\n",
        "plt.show()"
      ],
      "execution_count": 17,
      "outputs": [
        {
          "output_type": "display_data",
          "data": {
            "image/png": "[encoded data removed]",
            "text/plain": [
              "<Figure size 432x288 with 1 Axes>"
            ]
          },
          "metadata": {
            "needs_background": "light"
          }
        },
        {
          "output_type": "display_data",
          "data": {
            "image/png": "[encoded data removed]",
            "text/plain": [
              "<Figure size 432x288 with 1 Axes>"
            ]
          },
          "metadata": {
            "needs_background": "light"
          }
        }
      ]
    }
  ]
}