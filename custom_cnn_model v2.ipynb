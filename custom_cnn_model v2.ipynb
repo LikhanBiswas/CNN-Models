{
  "nbformat": 4,
  "nbformat_minor": 0,
  "metadata": {
    "colab": {
      "name": "custom cnn model.ipynb",
      "provenance": [],
      "authorship_tag": "ABX9TyPKWo8yZBQIKHOoYl4hSEWG",
      "include_colab_link": true
    },
    "kernelspec": {
      "name": "python3",
      "display_name": "Python 3"
    },
    "language_info": {
      "name": "python"
    },
    "accelerator": "GPU"
  },
  "cells": [
    {
      "cell_type": "markdown",
      "metadata": {
        "id": "view-in-github",
        "colab_type": "text"
      },
      "source": [
        "<a href=\"https://colab.research.google.com/github/LikhanBiswas/CNN-Models/blob/main/custom_cnn_model%20v2.ipynb\" target=\"_parent\"><img src=\"https://colab.research.google.com/assets/colab-badge.svg\" alt=\"Open In Colab\"/></a>"
      ]
    },
    {
      "cell_type": "code",
      "metadata": {
        "id": "JVaBBQ_1SU4e"
      },
      "source": [
        "from keras.layers import Dense, Flatten, Conv2D, MaxPooling2D, BatchNormalization, GlobalAveragePooling2D\n",
        "from keras.applications.imagenet_utils import preprocess_input\n",
        "from keras.models import Model\n",
        "from keras import models"
      ],
      "execution_count": 1,
      "outputs": []
    },
    {
      "cell_type": "code",
      "metadata": {
        "id": "rTxT_hAfaIVs"
      },
      "source": [
        "my_model= models.Sequential()"
      ],
      "execution_count": 2,
      "outputs": []
    },
    {
      "cell_type": "code",
      "metadata": {
        "id": "I_Moxw_5adgc"
      },
      "source": [
        "# Add first convolutional block\n",
        "my_model.add(Conv2D(16, (3, 3), activation='relu', padding='same', input_shape=(215,215,3)))\n",
        "my_model.add(MaxPooling2D((2, 2), strides=(2,2), padding='same'))\n",
        "\n",
        "# second block\n",
        "my_model.add(Conv2D(32, (3, 3), activation='relu', padding='same'))\n",
        "my_model.add(MaxPooling2D((2, 2),strides=(2,2), padding='same'))\n",
        "# third block\n",
        "my_model.add(Conv2D(64, (3, 3), activation='relu', padding='same'))\n",
        "my_model.add(MaxPooling2D((2, 2), strides=(2,2), padding='same'))\n",
        "# fourth block\n",
        "my_model.add(Conv2D(128, (3, 3), activation='relu', padding='same'))\n",
        "my_model.add(MaxPooling2D((2, 2), strides=(2,2), padding='same'))\n",
        "#fifth block\n",
        "my_model.add(Conv2D(128, (3, 3), activation='relu', padding='same'))\n",
        "my_model.add(Conv2D(128, (3, 3), activation='relu', padding='same'))\n",
        "my_model.add(MaxPooling2D((2, 2), strides=(2,2), padding='same'))\n",
        "#sixth block\n",
        "my_model.add(Conv2D(256, (3, 3), activation='relu', padding='same'))\n",
        "my_model.add(Conv2D(256, (3, 3), activation='relu', padding='same'))\n",
        "my_model.add(Conv2D(256, (3, 3), activation='relu', padding='same'))\n",
        "my_model.add(MaxPooling2D((2, 2), strides=(2,2), padding='same'))\n",
        "#seventh block\n",
        "my_model.add(Conv2D(512, (3, 3), activation='relu', padding='same'))\n",
        "my_model.add(Conv2D(512, (3, 3), activation='relu', padding='same'))\n",
        "my_model.add(Conv2D(512, (3, 3), activation='relu', padding='same'))\n",
        "my_model.add(MaxPooling2D((2, 2), strides=(2,2), padding='same'))"
      ],
      "execution_count": 3,
      "outputs": []
    },
    {
      "cell_type": "code",
      "metadata": {
        "id": "VVI-ZuLZcqQq"
      },
      "source": [
        "my_model.add(GlobalAveragePooling2D())\n",
        "# fully connected layer\n",
        "my_model.add(Dense(64, activation='relu'))\n",
        "my_model.add(BatchNormalization())\n",
        "# make predictions\n",
        "my_model.add(Dense(1, activation='sigmoid'))\n"
      ],
      "execution_count": 4,
      "outputs": []
    },
    {
      "cell_type": "code",
      "metadata": {
        "colab": {
          "base_uri": "https://localhost:8080/"
        },
        "id": "xttTiTacc18p",
        "outputId": "3afcf9a2-f925-4ac2-dfb8-00ea7aa9a50b"
      },
      "source": [
        "# Show a summary of the model. Check the number of trainable parameters\n",
        "my_model.summary()"
      ],
      "execution_count": 5,
      "outputs": [
        {
          "output_type": "stream",
          "text": [
            "Model: \"sequential\"\n",
            "_________________________________________________________________\n",
            "Layer (type)                 Output Shape              Param #   \n",
            "=================================================================\n",
            "conv2d (Conv2D)              (None, 215, 215, 16)      448       \n",
            "_________________________________________________________________\n",
            "max_pooling2d (MaxPooling2D) (None, 108, 108, 16)      0         \n",
            "_________________________________________________________________\n",
            "conv2d_1 (Conv2D)            (None, 108, 108, 32)      4640      \n",
            "_________________________________________________________________\n",
            "max_pooling2d_1 (MaxPooling2 (None, 54, 54, 32)        0         \n",
            "_________________________________________________________________\n",
            "conv2d_2 (Conv2D)            (None, 54, 54, 64)        18496     \n",
            "_________________________________________________________________\n",
            "max_pooling2d_2 (MaxPooling2 (None, 27, 27, 64)        0         \n",
            "_________________________________________________________________\n",
            "conv2d_3 (Conv2D)            (None, 27, 27, 128)       73856     \n",
            "_________________________________________________________________\n",
            "max_pooling2d_3 (MaxPooling2 (None, 14, 14, 128)       0         \n",
            "_________________________________________________________________\n",
            "conv2d_4 (Conv2D)            (None, 14, 14, 128)       147584    \n",
            "_________________________________________________________________\n",
            "conv2d_5 (Conv2D)            (None, 14, 14, 128)       147584    \n",
            "_________________________________________________________________\n",
            "max_pooling2d_4 (MaxPooling2 (None, 7, 7, 128)         0         \n",
            "_________________________________________________________________\n",
            "conv2d_6 (Conv2D)            (None, 7, 7, 256)         295168    \n",
            "_________________________________________________________________\n",
            "conv2d_7 (Conv2D)            (None, 7, 7, 256)         590080    \n",
            "_________________________________________________________________\n",
            "conv2d_8 (Conv2D)            (None, 7, 7, 256)         590080    \n",
            "_________________________________________________________________\n",
            "max_pooling2d_5 (MaxPooling2 (None, 4, 4, 256)         0         \n",
            "_________________________________________________________________\n",
            "conv2d_9 (Conv2D)            (None, 4, 4, 512)         1180160   \n",
            "_________________________________________________________________\n",
            "conv2d_10 (Conv2D)           (None, 4, 4, 512)         2359808   \n",
            "_________________________________________________________________\n",
            "conv2d_11 (Conv2D)           (None, 4, 4, 512)         2359808   \n",
            "_________________________________________________________________\n",
            "max_pooling2d_6 (MaxPooling2 (None, 2, 2, 512)         0         \n",
            "_________________________________________________________________\n",
            "global_average_pooling2d (Gl (None, 512)               0         \n",
            "_________________________________________________________________\n",
            "dense (Dense)                (None, 64)                32832     \n",
            "_________________________________________________________________\n",
            "batch_normalization (BatchNo (None, 64)                256       \n",
            "_________________________________________________________________\n",
            "dense_1 (Dense)              (None, 1)                 65        \n",
            "=================================================================\n",
            "Total params: 7,800,865\n",
            "Trainable params: 7,800,737\n",
            "Non-trainable params: 128\n",
            "_________________________________________________________________\n"
          ],
          "name": "stdout"
        }
      ]
    },
    {
      "cell_type": "code",
      "metadata": {
        "colab": {
          "base_uri": "https://localhost:8080/"
        },
        "id": "ggVRrBPnek94",
        "outputId": "bcf9b0f4-b993-4d70-8a4a-66859ad5104e"
      },
      "source": [
        "from google.colab import drive\n",
        "drive.mount('/content/drive')"
      ],
      "execution_count": 6,
      "outputs": [
        {
          "output_type": "stream",
          "text": [
            "Mounted at /content/drive\n"
          ],
          "name": "stdout"
        }
      ]
    },
    {
      "cell_type": "code",
      "metadata": {
        "id": "-fpzVNrOioWT"
      },
      "source": [
        "from tensorflow.python.keras.callbacks import EarlyStopping, ModelCheckpoint\n",
        "es=EarlyStopping(monitor='val_loss', mode='min', verbose=1, patience=5)\n",
        "\n",
        "# save best model automatically\n",
        "#mc= ModelCheckpoint('/content/drive/MyDrive/extension/custom_cnn.h5', monitor='val_loss', \n",
        "                    #mode='min', verbose=1, save_best_only=True)\n",
        "#cb_list=[es,mc]"
      ],
      "execution_count": 8,
      "outputs": []
    },
    {
      "cell_type": "code",
      "metadata": {
        "id": "bF-5puLNhw9h"
      },
      "source": [
        "x = Flatten()(my_model.output)\n",
        "prediction = Dense(1, activation='sigmoid')(x)\n"
      ],
      "execution_count": 9,
      "outputs": []
    },
    {
      "cell_type": "code",
      "metadata": {
        "id": "gcXVG09RdFu5"
      },
      "source": [
        "my_model.compile(optimizer='adam', loss='binary_crossentropy', \n",
        "                 metrics=['accuracy'])"
      ],
      "execution_count": 10,
      "outputs": []
    },
    {
      "cell_type": "code",
      "metadata": {
        "id": "w4Gt8Rz_d8Zj"
      },
      "source": [
        "from tensorflow.python.keras.preprocessing.image import ImageDataGenerator\n",
        "\n",
        "# set up data generator\n",
        "data_generator = ImageDataGenerator(preprocessing_function=preprocess_input)\n"
      ],
      "execution_count": 11,
      "outputs": []
    },
    {
      "cell_type": "code",
      "metadata": {
        "id": "byyH0GyVexUw"
      },
      "source": [
        "train_path = '/content/drive/MyDrive/real vs fake/NEW_TRAIN_10K'\n",
        "valid_path = '/content/drive/MyDrive/real vs fake/test'"
      ],
      "execution_count": 12,
      "outputs": []
    },
    {
      "cell_type": "code",
      "metadata": {
        "id": "3Bb9AnaVfWQw"
      },
      "source": [
        "data_generator = ImageDataGenerator(rescale = 1./255,\n",
        "                                   shear_range = 0.1,\n",
        "                                   zoom_range=0.1,\n",
        "                                   rotation_range=90,\n",
        "                                   width_shift_range=0.1,\n",
        "                                   #fill_mode='wrap',\n",
        "                                   height_shift_range=0.1,\n",
        "                                   #channel_shift_range=150.0,\n",
        "                                   brightness_range=(0.1, 0.5),\n",
        "                                   vertical_flip=True,\n",
        "                                   horizontal_flip = True)\n",
        "\n",
        "test_datagen = ImageDataGenerator(rescale = 1./255)"
      ],
      "execution_count": 13,
      "outputs": []
    },
    {
      "cell_type": "code",
      "metadata": {
        "colab": {
          "base_uri": "https://localhost:8080/"
        },
        "id": "SWghfROSeRbL",
        "outputId": "de3cd36b-e5fe-4f56-e3be-a5f324d5f629"
      },
      "source": [
        "# get batches of training images from the directory\n",
        "train_generator = data_generator.flow_from_directory(\n",
        "        '/content/drive/MyDrive/real vs fake/NEW_TRAIN_10K',\n",
        "        target_size=(215, 215),\n",
        "        batch_size=16,\n",
        "        class_mode='binary')\n",
        "\n",
        "# get batches of validation images from the directory\n",
        "validation_generator = test_datagen.flow_from_directory(\n",
        "        '/content/drive/MyDrive/real vs fake/test',\n",
        "        target_size=(215, 215),\n",
        "        batch_size=16,\n",
        "        class_mode='binary')"
      ],
      "execution_count": 14,
      "outputs": [
        {
          "output_type": "stream",
          "text": [
            "Found 10000 images belonging to 2 classes.\n",
            "Found 3000 images belonging to 2 classes.\n"
          ],
          "name": "stdout"
        }
      ]
    },
    {
      "cell_type": "code",
      "metadata": {
        "colab": {
          "base_uri": "https://localhost:8080/"
        },
        "id": "Bw_MEi6Mg0cs",
        "outputId": "e8bf90ad-61ae-4650-c23d-fadceccc8528"
      },
      "source": [
        "history = my_model.fit(\n",
        "        train_generator,\n",
        "        epochs=20,\n",
        "        steps_per_epoch=len(train_generator),\n",
        "        validation_data=validation_generator,\n",
        "        validation_steps=667)"
      ],
      "execution_count": 15,
      "outputs": [
        {
          "output_type": "stream",
          "text": [
            "Epoch 1/20\n",
            "625/625 [==============================] - 3810s 6s/step - loss: 0.3457 - accuracy: 0.8493 - val_loss: 0.4773 - val_accuracy: 0.8440\n",
            "Epoch 2/20\n",
            "625/625 [==============================] - 161s 258ms/step - loss: 0.1137 - accuracy: 0.9570 - val_loss: 2.7549 - val_accuracy: 0.5774\n",
            "Epoch 3/20\n",
            "625/625 [==============================] - 161s 258ms/step - loss: 0.0773 - accuracy: 0.9703 - val_loss: 11.4796 - val_accuracy: 0.4979\n",
            "Epoch 4/20\n",
            "625/625 [==============================] - 159s 255ms/step - loss: 0.0526 - accuracy: 0.9820 - val_loss: 0.6328 - val_accuracy: 0.8281\n",
            "Epoch 5/20\n",
            "625/625 [==============================] - 161s 257ms/step - loss: 0.0476 - accuracy: 0.9826 - val_loss: 0.5988 - val_accuracy: 0.8164\n",
            "Epoch 6/20\n",
            "625/625 [==============================] - 158s 253ms/step - loss: 0.0385 - accuracy: 0.9858 - val_loss: 0.5152 - val_accuracy: 0.7865\n",
            "Epoch 7/20\n",
            "625/625 [==============================] - 159s 254ms/step - loss: 0.0380 - accuracy: 0.9867 - val_loss: 0.0385 - val_accuracy: 0.9880\n",
            "Epoch 8/20\n",
            "625/625 [==============================] - 159s 256ms/step - loss: 0.0361 - accuracy: 0.9883 - val_loss: 0.3538 - val_accuracy: 0.8635\n",
            "Epoch 9/20\n",
            "625/625 [==============================] - 159s 255ms/step - loss: 0.0348 - accuracy: 0.9890 - val_loss: 0.2359 - val_accuracy: 0.8971\n",
            "Epoch 10/20\n",
            "625/625 [==============================] - 158s 253ms/step - loss: 0.0476 - accuracy: 0.9880 - val_loss: 0.0775 - val_accuracy: 0.9765\n",
            "Epoch 11/20\n",
            "625/625 [==============================] - 158s 253ms/step - loss: 0.0291 - accuracy: 0.9898 - val_loss: 0.0676 - val_accuracy: 0.9736\n",
            "Epoch 12/20\n",
            "625/625 [==============================] - 159s 255ms/step - loss: 0.0329 - accuracy: 0.9902 - val_loss: 0.0878 - val_accuracy: 0.9683\n",
            "Epoch 13/20\n",
            "625/625 [==============================] - 159s 255ms/step - loss: 0.0205 - accuracy: 0.9936 - val_loss: 0.0452 - val_accuracy: 0.9858\n",
            "Epoch 14/20\n",
            "625/625 [==============================] - 161s 257ms/step - loss: 0.0315 - accuracy: 0.9890 - val_loss: 0.2187 - val_accuracy: 0.9024\n",
            "Epoch 15/20\n",
            "625/625 [==============================] - 158s 253ms/step - loss: 0.0214 - accuracy: 0.9931 - val_loss: 0.0949 - val_accuracy: 0.9677\n",
            "Epoch 16/20\n",
            "625/625 [==============================] - 160s 257ms/step - loss: 0.0198 - accuracy: 0.9951 - val_loss: 0.3466 - val_accuracy: 0.9081\n",
            "Epoch 17/20\n",
            "625/625 [==============================] - 159s 254ms/step - loss: 0.0263 - accuracy: 0.9908 - val_loss: 0.1890 - val_accuracy: 0.9157\n",
            "Epoch 18/20\n",
            "625/625 [==============================] - 160s 256ms/step - loss: 0.0232 - accuracy: 0.9944 - val_loss: 1.7695 - val_accuracy: 0.6462\n",
            "Epoch 19/20\n",
            "625/625 [==============================] - 160s 256ms/step - loss: 0.0204 - accuracy: 0.9927 - val_loss: 0.3282 - val_accuracy: 0.9035\n",
            "Epoch 20/20\n",
            "625/625 [==============================] - 159s 255ms/step - loss: 0.0188 - accuracy: 0.9942 - val_loss: 0.0286 - val_accuracy: 0.9882\n"
          ],
          "name": "stdout"
        }
      ]
    },
    {
      "cell_type": "code",
      "metadata": {
        "id": "NDh9Dy_YgtIN"
      },
      "source": [
        "import matplotlib.pyplot as plt"
      ],
      "execution_count": 1,
      "outputs": []
    },
    {
      "cell_type": "code",
      "metadata": {
        "id": "aEjYCte7guEN"
      },
      "source": [
        ""
      ],
      "execution_count": 2,
      "outputs": []
    }
  ]
}