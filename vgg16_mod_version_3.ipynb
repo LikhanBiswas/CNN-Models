{
  "nbformat": 4,
  "nbformat_minor": 0,
  "metadata": {
    "colab": {
      "name": "vgg16_mod_version_3.ipynb",
      "provenance": []
    },
    "kernelspec": {
      "name": "python3",
      "display_name": "Python 3"
    },
    "language_info": {
      "name": "python"
    },
    "accelerator": "GPU"
  },
  "cells": [
    {
      "cell_type": "code",
      "metadata": {
        "id": "m6E5dgn6mIC2"
      },
      "source": [
        "from tensorflow.compat.v1 import ConfigProto\n",
        "from tensorflow.compat.v1 import InteractiveSession\n",
        "\n",
        "config = ConfigProto()\n",
        "config.gpu_options.per_process_gpu_memory_fraction = 0.5\n",
        "config.gpu_options.allow_growth = True\n",
        "session = InteractiveSession(config=config)"
      ],
      "execution_count": null,
      "outputs": []
    },
    {
      "cell_type": "code",
      "metadata": {
        "colab": {
          "base_uri": "https://localhost:8080/"
        },
        "id": "MNPVF4KFmjZi",
        "outputId": "0ac35453-ffd9-4a70-c061-86bbe23cc75e"
      },
      "source": [
        "import tensorflow as tf\n",
        "print(tf.__version__)"
      ],
      "execution_count": null,
      "outputs": [
        {
          "output_type": "stream",
          "text": [
            "2.5.0\n"
          ],
          "name": "stdout"
        }
      ]
    },
    {
      "cell_type": "code",
      "metadata": {
        "id": "5Q703O6pmvpx"
      },
      "source": [
        "from tensorflow.keras.layers import Input, Lambda, Dense, Flatten\n",
        "from tensorflow.keras.models import Model\n",
        "from tensorflow.keras.applications.vgg16 import VGG16\n",
        "from tensorflow.keras.applications.vgg19 import VGG19\n",
        "from tensorflow.keras.preprocessing import image\n",
        "from tensorflow.keras.preprocessing.image import ImageDataGenerator,load_img\n",
        "from tensorflow.keras.models import Sequential\n",
        "from tensorflow.keras.preprocessing.image import ImageDataGenerator\n",
        "from tensorflow.keras.callbacks import ReduceLROnPlateau\n",
        "import numpy as np\n",
        "import keras\n",
        "from keras import regularizers\n",
        "from glob import glob\n",
        "from tensorflow.python.keras.layers import Input, Dense"
      ],
      "execution_count": null,
      "outputs": []
    },
    {
      "cell_type": "code",
      "metadata": {
        "colab": {
          "base_uri": "https://localhost:8080/"
        },
        "id": "tyNh2AkqmzFC",
        "outputId": "198e57b7-e1b0-4612-b79a-c31a6bd02caf"
      },
      "source": [
        "from google.colab import drive\n",
        "drive.mount('/content/drive')"
      ],
      "execution_count": null,
      "outputs": [
        {
          "output_type": "stream",
          "text": [
            "Mounted at /content/drive\n"
          ],
          "name": "stdout"
        }
      ]
    },
    {
      "cell_type": "code",
      "metadata": {
        "id": "Vy-1fsEinGw6"
      },
      "source": [
        "IMAGE_SIZE = [224, 224]"
      ],
      "execution_count": null,
      "outputs": []
    },
    {
      "cell_type": "code",
      "metadata": {
        "id": "V04_P80PnK1J",
        "colab": {
          "base_uri": "https://localhost:8080/"
        },
        "outputId": "ea41b450-88a2-4c47-ed9b-8c2f6cafb98c"
      },
      "source": [
        "vgg16 = VGG16(input_shape=IMAGE_SIZE + [3], weights='imagenet', include_top=False)\n",
        "#vgg.summary()"
      ],
      "execution_count": null,
      "outputs": [
        {
          "output_type": "stream",
          "text": [
            "Downloading data from https://storage.googleapis.com/tensorflow/keras-applications/vgg16/vgg16_weights_tf_dim_ordering_tf_kernels_notop.h5\n",
            "58892288/58889256 [==============================] - 0s 0us/step\n"
          ],
          "name": "stdout"
        }
      ]
    },
    {
      "cell_type": "code",
      "metadata": {
        "id": "db7a1D-jnjNq"
      },
      "source": [
        "for layer in vgg16.layers:\n",
        "  layer.trainable = False"
      ],
      "execution_count": null,
      "outputs": []
    },
    {
      "cell_type": "code",
      "metadata": {
        "id": "O8tlo2FQpSzT"
      },
      "source": [
        "x = Flatten()(vgg16.output)\n",
        "prediction = Dense(1, activation='sigmoid')(x)\n",
        "model = Model(inputs=vgg16.input, outputs=prediction)"
      ],
      "execution_count": null,
      "outputs": []
    },
    {
      "cell_type": "code",
      "metadata": {
        "id": "toskN2VMr5_K"
      },
      "source": [
        "#model.summary()"
      ],
      "execution_count": null,
      "outputs": []
    },
    {
      "cell_type": "code",
      "metadata": {
        "id": "cljJ-JbfsGs6"
      },
      "source": [
        "for layer in model.layers:\n",
        "    layer.kernel_regularizer = keras.regularizers.l1_l2(0.01)"
      ],
      "execution_count": null,
      "outputs": []
    },
    {
      "cell_type": "code",
      "metadata": {
        "id": "5AyIQvL1sPx6"
      },
      "source": [
        "model.compile(\n",
        "  loss='binary_crossentropy',\n",
        "  optimizer='adam',\n",
        "  metrics=['accuracy']\n",
        ")"
      ],
      "execution_count": null,
      "outputs": []
    },
    {
      "cell_type": "code",
      "metadata": {
        "id": "6V5gH8essZB6"
      },
      "source": [
        "train_path = '/content/drive/MyDrive/real vs fake/NEW_TRAIN_10K'\n",
        "valid_path = '/content/drive/MyDrive/real vs fake/test'"
      ],
      "execution_count": null,
      "outputs": []
    },
    {
      "cell_type": "code",
      "metadata": {
        "id": "Pe_8KMGBsxaS"
      },
      "source": [
        "train_datagen = ImageDataGenerator(rescale = 1./255,\n",
        "                                   shear_range = 0.3,\n",
        "                                   zoom_range=0.3,\n",
        "                                   rotation_range=90,\n",
        "                                   width_shift_range=0.3,\n",
        "                                   #fill_mode='wrap',\n",
        "                                   height_shift_range=0.3,\n",
        "                                   #channel_shift_range=150.0,\n",
        "                                   brightness_range=(0.1, 0.5),\n",
        "                                   vertical_flip=True,\n",
        "                                   horizontal_flip = True)\n",
        "\n",
        "test_datagen = ImageDataGenerator(rescale = 1./255)"
      ],
      "execution_count": null,
      "outputs": []
    },
    {
      "cell_type": "code",
      "metadata": {
        "colab": {
          "base_uri": "https://localhost:8080/"
        },
        "id": "SnWkF7R4tUPT",
        "outputId": "0c4768f0-a409-4ddf-df80-009e4a9489bc"
      },
      "source": [
        "training_set = train_datagen.flow_from_directory('/content/drive/MyDrive/real vs fake/NEW_TRAIN_10K',\n",
        "                                                 target_size = (224, 224),\n",
        "                                                 batch_size = 32,\n",
        "                                                 color_mode='rgb',\n",
        "                                                 class_mode = 'binary')"
      ],
      "execution_count": null,
      "outputs": [
        {
          "output_type": "stream",
          "text": [
            "Found 10000 images belonging to 2 classes.\n"
          ],
          "name": "stdout"
        }
      ]
    },
    {
      "cell_type": "code",
      "metadata": {
        "colab": {
          "base_uri": "https://localhost:8080/"
        },
        "id": "RWgytPC4tqVj",
        "outputId": "9bd42dba-2503-43a0-ab70-35e59a8577a1"
      },
      "source": [
        "test_set = test_datagen.flow_from_directory('/content/drive/MyDrive/real vs fake/test',\n",
        "                                            target_size = (224, 224),\n",
        "                                            batch_size = 32,\n",
        "                                            color_mode='rgb',\n",
        "                                            class_mode = 'binary')"
      ],
      "execution_count": null,
      "outputs": [
        {
          "output_type": "stream",
          "text": [
            "Found 3000 images belonging to 2 classes.\n"
          ],
          "name": "stdout"
        }
      ]
    },
    {
      "cell_type": "code",
      "metadata": {
        "id": "zmvFU-LfybbU"
      },
      "source": [
        "reduce_lr = ReduceLROnPlateau(\n",
        "    monitor='val_loss', \n",
        "    factor=0.2,   \n",
        "    patience=2, \n",
        "    min_lr=0.001,\n",
        "    verbose=2\n",
        ")"
      ],
      "execution_count": null,
      "outputs": []
    },
    {
      "cell_type": "code",
      "metadata": {
        "colab": {
          "base_uri": "https://localhost:8080/"
        },
        "id": "0iNQ5Ih_t3iM",
        "outputId": "6dbb4ca4-e792-48b3-f9d4-55759190519c"
      },
      "source": [
        "r = model.fit(\n",
        "  training_set,\n",
        "  validation_data=test_set,\n",
        "  epochs=20,\n",
        "  steps_per_epoch=len(training_set),\n",
        "  validation_steps=len(test_set),\n",
        "  callbacks=[reduce_lr]\n",
        ")"
      ],
      "execution_count": null,
      "outputs": [
        {
          "output_type": "stream",
          "text": [
            "Epoch 1/20\n",
            "313/313 [==============================] - 4437s 14s/step - loss: 0.3387 - accuracy: 0.8520 - val_loss: 0.5200 - val_accuracy: 0.7990\n",
            "Epoch 2/20\n",
            "313/313 [==============================] - 159s 507ms/step - loss: 0.2371 - accuracy: 0.9022 - val_loss: 0.7610 - val_accuracy: 0.7653\n",
            "Epoch 3/20\n",
            "313/313 [==============================] - 159s 507ms/step - loss: 0.2081 - accuracy: 0.9155 - val_loss: 0.3435 - val_accuracy: 0.8773\n",
            "Epoch 4/20\n",
            "313/313 [==============================] - 159s 507ms/step - loss: 0.1840 - accuracy: 0.9263 - val_loss: 0.5516 - val_accuracy: 0.8267\n",
            "Epoch 5/20\n",
            "313/313 [==============================] - 163s 519ms/step - loss: 0.1714 - accuracy: 0.9329 - val_loss: 0.4280 - val_accuracy: 0.8723\n",
            "Epoch 6/20\n",
            "313/313 [==============================] - 159s 508ms/step - loss: 0.1650 - accuracy: 0.9333 - val_loss: 1.0088 - val_accuracy: 0.7377\n",
            "Epoch 7/20\n",
            "313/313 [==============================] - 161s 515ms/step - loss: 0.1571 - accuracy: 0.9338 - val_loss: 0.5336 - val_accuracy: 0.8587\n",
            "Epoch 8/20\n",
            "313/313 [==============================] - 160s 511ms/step - loss: 0.1412 - accuracy: 0.9440 - val_loss: 0.4758 - val_accuracy: 0.8763\n",
            "Epoch 9/20\n",
            "313/313 [==============================] - 159s 508ms/step - loss: 0.1458 - accuracy: 0.9454 - val_loss: 0.4987 - val_accuracy: 0.8763\n",
            "Epoch 10/20\n",
            "313/313 [==============================] - 160s 512ms/step - loss: 0.1344 - accuracy: 0.9477 - val_loss: 0.5129 - val_accuracy: 0.8730\n",
            "Epoch 11/20\n",
            "313/313 [==============================] - 161s 513ms/step - loss: 0.1298 - accuracy: 0.9473 - val_loss: 0.3779 - val_accuracy: 0.9033\n",
            "Epoch 12/20\n",
            "313/313 [==============================] - 161s 513ms/step - loss: 0.1428 - accuracy: 0.9454 - val_loss: 0.7375 - val_accuracy: 0.8447\n",
            "Epoch 13/20\n",
            "313/313 [==============================] - 161s 516ms/step - loss: 0.1222 - accuracy: 0.9519 - val_loss: 0.7641 - val_accuracy: 0.8357\n",
            "Epoch 14/20\n",
            "313/313 [==============================] - 160s 511ms/step - loss: 0.1362 - accuracy: 0.9451 - val_loss: 0.7342 - val_accuracy: 0.8377\n",
            "Epoch 15/20\n",
            "313/313 [==============================] - 160s 510ms/step - loss: 0.1282 - accuracy: 0.9478 - val_loss: 0.7022 - val_accuracy: 0.8613\n",
            "Epoch 16/20\n",
            "313/313 [==============================] - 162s 518ms/step - loss: 0.1360 - accuracy: 0.9452 - val_loss: 0.3226 - val_accuracy: 0.9243\n",
            "Epoch 17/20\n",
            "313/313 [==============================] - 162s 518ms/step - loss: 0.1218 - accuracy: 0.9503 - val_loss: 0.3838 - val_accuracy: 0.9147\n",
            "Epoch 18/20\n",
            "313/313 [==============================] - 161s 514ms/step - loss: 0.1278 - accuracy: 0.9482 - val_loss: 0.5562 - val_accuracy: 0.8887\n",
            "Epoch 19/20\n",
            "313/313 [==============================] - 160s 512ms/step - loss: 0.1062 - accuracy: 0.9614 - val_loss: 0.5294 - val_accuracy: 0.8913\n",
            "Epoch 20/20\n",
            "313/313 [==============================] - 160s 511ms/step - loss: 0.1146 - accuracy: 0.9550 - val_loss: 0.5540 - val_accuracy: 0.8830\n"
          ],
          "name": "stdout"
        }
      ]
    },
    {
      "cell_type": "code",
      "metadata": {
        "id": "wpNQYQG1vhfD"
      },
      "source": [
        "import matplotlib.pyplot as plt"
      ],
      "execution_count": null,
      "outputs": []
    },
    {
      "cell_type": "code",
      "metadata": {
        "colab": {
          "base_uri": "https://localhost:8080/",
          "height": 530
        },
        "id": "pRJIevc2vmJ0",
        "outputId": "c8e1ef6e-7eb5-46a8-df7c-25b59ae00f30"
      },
      "source": [
        "# plot the loss\n",
        "plt.plot(r.history['loss'], label='train loss')\n",
        "plt.plot(r.history['val_loss'], label='val loss')\n",
        "plt.legend()\n",
        "plt.show()\n",
        "plt.savefig('LossVal_loss')\n",
        "\n",
        "# plot the accuracy\n",
        "plt.plot(r.history['accuracy'], label='train acc')\n",
        "plt.plot(r.history['val_accuracy'], label='val acc')\n",
        "plt.legend()\n",
        "plt.show()\n",
        "plt.savefig('AccVal_acc')"
      ],
      "execution_count": null,
      "outputs": [
        {
          "output_type": "display_data",
          "data": {
            "image/png": "[encoded data removed]",
            "text/plain": [
              "<Figure size 432x288 with 1 Axes>"
            ]
          },
          "metadata": {
            "tags": [],
            "needs_background": "light"
          }
        },
        {
          "output_type": "display_data",
          "data": {
            "image/png": "[encoded data removed]",
            "text/plain": [
              "<Figure size 432x288 with 1 Axes>"
            ]
          },
          "metadata": {
            "tags": [],
            "needs_background": "light"
          }
        },
        {
          "output_type": "display_data",
          "data": {
            "text/plain": [
              "<Figure size 432x288 with 0 Axes>"
            ]
          },
          "metadata": {
            "tags": []
          }
        }
      ]
    }
  ]
}