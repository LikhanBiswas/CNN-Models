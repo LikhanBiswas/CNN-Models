{
  "nbformat": 4,
  "nbformat_minor": 0,
  "metadata": {
    "colab": {
      "name": "custom cnn model v3.ipynb",
      "provenance": [],
      "authorship_tag": "ABX9TyMEGIfQ3cQ+d8aH9MRWscjD",
      "include_colab_link": true
    },
    "kernelspec": {
      "name": "python3",
      "display_name": "Python 3"
    },
    "language_info": {
      "name": "python"
    },
    "accelerator": "GPU"
  },
  "cells": [
    {
      "cell_type": "markdown",
      "metadata": {
        "id": "view-in-github",
        "colab_type": "text"
      },
      "source": [
        "<a href=\"https://colab.research.google.com/github/LikhanBiswas/CNN-Models/blob/main/custom_cnn_model_v4.ipynb\" target=\"_parent\"><img src=\"https://colab.research.google.com/assets/colab-badge.svg\" alt=\"Open In Colab\"/></a>"
      ]
    },
    {
      "cell_type": "code",
      "metadata": {
        "id": "JVaBBQ_1SU4e"
      },
      "source": [
        "from keras.layers import Dense, Flatten, Conv2D, MaxPooling2D, BatchNormalization, GlobalAveragePooling2D\n",
        "from keras.applications.imagenet_utils import preprocess_input\n",
        "from keras.models import Model\n",
        "from keras import models\n",
        "import keras\n",
        "from keras import regularizers"
      ],
      "execution_count": 1,
      "outputs": []
    },
    {
      "cell_type": "code",
      "metadata": {
        "id": "rTxT_hAfaIVs"
      },
      "source": [
        "my_model= models.Sequential()"
      ],
      "execution_count": 2,
      "outputs": []
    },
    {
      "cell_type": "code",
      "metadata": {
        "id": "I_Moxw_5adgc"
      },
      "source": [
        "# Add first convolutional block\n",
        "my_model.add(Conv2D(16, (3, 3), activation='relu', padding='same', input_shape=(215,215,3)))\n",
        "my_model.add(MaxPooling2D((2, 2), strides=(2,2), padding='same'))\n",
        "\n",
        "# second block\n",
        "my_model.add(Conv2D(32, (3, 3), activation='relu', padding='same'))\n",
        "my_model.add(MaxPooling2D((2, 2),strides=(2,2), padding='same'))\n",
        "# third block\n",
        "my_model.add(Conv2D(64, (3, 3), activation='relu', padding='same'))\n",
        "my_model.add(MaxPooling2D((2, 2), strides=(2,2), padding='same'))\n",
        "# fourth block\n",
        "my_model.add(Conv2D(128, (3, 3), activation='relu', padding='same'))\n",
        "my_model.add(MaxPooling2D((2, 2), strides=(2,2), padding='same'))\n",
        "#fifth block\n",
        "my_model.add(Conv2D(128, (3, 3), activation='relu', padding='same'))\n",
        "my_model.add(Conv2D(128, (3, 3), activation='relu', padding='same'))\n",
        "my_model.add(MaxPooling2D((2, 2), strides=(2,2), padding='same'))\n",
        "#sixth block\n",
        "my_model.add(Conv2D(256, (3, 3), activation='relu', padding='same'))\n",
        "my_model.add(Conv2D(256, (3, 3), activation='relu', padding='same'))\n",
        "my_model.add(Conv2D(256, (3, 3), activation='relu', padding='same'))\n",
        "my_model.add(MaxPooling2D((2, 2), strides=(2,2), padding='same'))\n",
        "#seventh block\n",
        "my_model.add(Conv2D(512, (3, 3), activation='relu', padding='same'))\n",
        "my_model.add(Conv2D(512, (3, 3), activation='relu', padding='same'))\n",
        "my_model.add(Conv2D(512, (3, 3), activation='relu', padding='same'))\n",
        "my_model.add(MaxPooling2D((2, 2), strides=(2,2), padding='same'))"
      ],
      "execution_count": 3,
      "outputs": []
    },
    {
      "cell_type": "code",
      "metadata": {
        "id": "VVI-ZuLZcqQq"
      },
      "source": [
        "my_model.add(GlobalAveragePooling2D())\n",
        "# fully connected layer\n",
        "my_model.add(Dense(64, activation='relu'))\n",
        "my_model.add(BatchNormalization())\n",
        "# make predictions\n",
        "my_model.add(Dense(1, activation='sigmoid'))\n"
      ],
      "execution_count": 4,
      "outputs": []
    },
    {
      "cell_type": "code",
      "metadata": {
        "colab": {
          "base_uri": "https://localhost:8080/"
        },
        "id": "xttTiTacc18p",
        "outputId": "c6324866-1ae4-4797-cec3-d9a554d6ff46"
      },
      "source": [
        "# Show a summary of the model. Check the number of trainable parameters\n",
        "my_model.summary()"
      ],
      "execution_count": 5,
      "outputs": [
        {
          "output_type": "stream",
          "text": [
            "Model: \"sequential\"\n",
            "_________________________________________________________________\n",
            "Layer (type)                 Output Shape              Param #   \n",
            "=================================================================\n",
            "conv2d (Conv2D)              (None, 215, 215, 16)      448       \n",
            "_________________________________________________________________\n",
            "max_pooling2d (MaxPooling2D) (None, 108, 108, 16)      0         \n",
            "_________________________________________________________________\n",
            "conv2d_1 (Conv2D)            (None, 108, 108, 32)      4640      \n",
            "_________________________________________________________________\n",
            "max_pooling2d_1 (MaxPooling2 (None, 54, 54, 32)        0         \n",
            "_________________________________________________________________\n",
            "conv2d_2 (Conv2D)            (None, 54, 54, 64)        18496     \n",
            "_________________________________________________________________\n",
            "max_pooling2d_2 (MaxPooling2 (None, 27, 27, 64)        0         \n",
            "_________________________________________________________________\n",
            "conv2d_3 (Conv2D)            (None, 27, 27, 128)       73856     \n",
            "_________________________________________________________________\n",
            "max_pooling2d_3 (MaxPooling2 (None, 14, 14, 128)       0         \n",
            "_________________________________________________________________\n",
            "conv2d_4 (Conv2D)            (None, 14, 14, 128)       147584    \n",
            "_________________________________________________________________\n",
            "conv2d_5 (Conv2D)            (None, 14, 14, 128)       147584    \n",
            "_________________________________________________________________\n",
            "max_pooling2d_4 (MaxPooling2 (None, 7, 7, 128)         0         \n",
            "_________________________________________________________________\n",
            "conv2d_6 (Conv2D)            (None, 7, 7, 256)         295168    \n",
            "_________________________________________________________________\n",
            "conv2d_7 (Conv2D)            (None, 7, 7, 256)         590080    \n",
            "_________________________________________________________________\n",
            "conv2d_8 (Conv2D)            (None, 7, 7, 256)         590080    \n",
            "_________________________________________________________________\n",
            "max_pooling2d_5 (MaxPooling2 (None, 4, 4, 256)         0         \n",
            "_________________________________________________________________\n",
            "conv2d_9 (Conv2D)            (None, 4, 4, 512)         1180160   \n",
            "_________________________________________________________________\n",
            "conv2d_10 (Conv2D)           (None, 4, 4, 512)         2359808   \n",
            "_________________________________________________________________\n",
            "conv2d_11 (Conv2D)           (None, 4, 4, 512)         2359808   \n",
            "_________________________________________________________________\n",
            "max_pooling2d_6 (MaxPooling2 (None, 2, 2, 512)         0         \n",
            "_________________________________________________________________\n",
            "global_average_pooling2d (Gl (None, 512)               0         \n",
            "_________________________________________________________________\n",
            "dense (Dense)                (None, 64)                32832     \n",
            "_________________________________________________________________\n",
            "batch_normalization (BatchNo (None, 64)                256       \n",
            "_________________________________________________________________\n",
            "dense_1 (Dense)              (None, 1)                 65        \n",
            "=================================================================\n",
            "Total params: 7,800,865\n",
            "Trainable params: 7,800,737\n",
            "Non-trainable params: 128\n",
            "_________________________________________________________________\n"
          ],
          "name": "stdout"
        }
      ]
    },
    {
      "cell_type": "code",
      "metadata": {
        "colab": {
          "base_uri": "https://localhost:8080/"
        },
        "id": "ggVRrBPnek94",
        "outputId": "1934a348-b647-46f6-dd37-e0b7ad8dad92"
      },
      "source": [
        "from google.colab import drive\n",
        "drive.mount('/content/drive')"
      ],
      "execution_count": 6,
      "outputs": [
        {
          "output_type": "stream",
          "text": [
            "Mounted at /content/drive\n"
          ],
          "name": "stdout"
        }
      ]
    },
    {
      "cell_type": "code",
      "metadata": {
        "id": "-fpzVNrOioWT"
      },
      "source": [
        "from tensorflow.python.keras.callbacks import EarlyStopping, ModelCheckpoint\n",
        "es=EarlyStopping(monitor='val_loss', mode='min', verbose=1, patience=5)\n",
        "\n",
        "# save best model automatically\n",
        "#mc= ModelCheckpoint('/content/drive/MyDrive/extension/custom_cnn.h5', monitor='val_loss', \n",
        "                    #mode='min', verbose=1, save_best_only=True)\n",
        "#cb_list=[es,mc]"
      ],
      "execution_count": 7,
      "outputs": []
    },
    {
      "cell_type": "code",
      "metadata": {
        "id": "bF-5puLNhw9h"
      },
      "source": [
        "x = Flatten()(my_model.output)\n",
        "prediction = Dense(1, activation='sigmoid')(x)\n"
      ],
      "execution_count": 8,
      "outputs": []
    },
    {
      "cell_type": "code",
      "metadata": {
        "id": "7zeRD5bvhheA"
      },
      "source": [
        "for layer in my_model.layers:\n",
        "    layer.kernel_regularizer = keras.regularizers.l1_l2(0.001)"
      ],
      "execution_count": 9,
      "outputs": []
    },
    {
      "cell_type": "code",
      "metadata": {
        "id": "gcXVG09RdFu5"
      },
      "source": [
        "my_model.compile(optimizer='adam', loss='binary_crossentropy', \n",
        "                 metrics=['accuracy'])"
      ],
      "execution_count": 10,
      "outputs": []
    },
    {
      "cell_type": "code",
      "metadata": {
        "id": "w4Gt8Rz_d8Zj"
      },
      "source": [
        "from tensorflow.python.keras.preprocessing.image import ImageDataGenerator\n",
        "\n",
        "# set up data generator\n",
        "data_generator = ImageDataGenerator(preprocessing_function=preprocess_input)\n"
      ],
      "execution_count": 11,
      "outputs": []
    },
    {
      "cell_type": "code",
      "metadata": {
        "id": "byyH0GyVexUw"
      },
      "source": [
        "train_path = '/content/drive/MyDrive/real vs fake/NEW_TRAIN_10K'\n",
        "valid_path = '/content/drive/MyDrive/real vs fake/test'"
      ],
      "execution_count": 12,
      "outputs": []
    },
    {
      "cell_type": "code",
      "metadata": {
        "id": "3Bb9AnaVfWQw"
      },
      "source": [
        "data_generator = ImageDataGenerator(rescale = 1./255,\n",
        "                                   shear_range = 0.1,\n",
        "                                   zoom_range=0.1,\n",
        "                                   rotation_range=90,\n",
        "                                   width_shift_range=0.1,\n",
        "                                   #fill_mode='wrap',\n",
        "                                   height_shift_range=0.1,\n",
        "                                   #channel_shift_range=150.0,\n",
        "                                   brightness_range=(0.1, 0.5),\n",
        "                                   vertical_flip=True,\n",
        "                                   horizontal_flip = True)\n",
        "\n",
        "test_datagen = ImageDataGenerator(rescale = 1./255)"
      ],
      "execution_count": 13,
      "outputs": []
    },
    {
      "cell_type": "code",
      "metadata": {
        "colab": {
          "base_uri": "https://localhost:8080/"
        },
        "id": "SWghfROSeRbL",
        "outputId": "19f208e0-c61c-451d-d467-b0dd1515e5e8"
      },
      "source": [
        "# get batches of training images from the directory\n",
        "train_generator = data_generator.flow_from_directory(\n",
        "        '/content/drive/MyDrive/real vs fake/NEW_TRAIN_10K',\n",
        "        target_size=(215, 215),\n",
        "        batch_size=16,\n",
        "        class_mode='binary')\n",
        "\n",
        "# get batches of validation images from the directory\n",
        "validation_generator = test_datagen.flow_from_directory(\n",
        "        '/content/drive/MyDrive/real vs fake/test',\n",
        "        target_size=(215, 215),\n",
        "        batch_size=16,\n",
        "        class_mode='binary')"
      ],
      "execution_count": 14,
      "outputs": [
        {
          "output_type": "stream",
          "text": [
            "Found 10000 images belonging to 2 classes.\n",
            "Found 3000 images belonging to 2 classes.\n"
          ],
          "name": "stdout"
        }
      ]
    },
    {
      "cell_type": "code",
      "metadata": {
        "colab": {
          "base_uri": "https://localhost:8080/"
        },
        "id": "Bw_MEi6Mg0cs",
        "outputId": "763f706b-182c-4f88-d5d8-38cfa4b8a076"
      },
      "source": [
        "history = my_model.fit(\n",
        "        train_generator,\n",
        "        epochs=20,\n",
        "        steps_per_epoch=len(train_generator),\n",
        "        validation_data=validation_generator,\n",
        "        validation_steps=667)"
      ],
      "execution_count": 15,
      "outputs": [
        {
          "output_type": "stream",
          "text": [
            "Epoch 1/20\n",
            "625/625 [==============================] - 4699s 7s/step - loss: 0.2929 - accuracy: 0.8657 - val_loss: 1.5249 - val_accuracy: 0.5808\n",
            "Epoch 2/20\n",
            "625/625 [==============================] - 161s 258ms/step - loss: 0.1075 - accuracy: 0.9591 - val_loss: 4.2579 - val_accuracy: 0.5039\n",
            "Epoch 3/20\n",
            "625/625 [==============================] - 162s 259ms/step - loss: 0.0703 - accuracy: 0.9751 - val_loss: 6.5399 - val_accuracy: 0.4975\n",
            "Epoch 4/20\n",
            "625/625 [==============================] - 161s 258ms/step - loss: 0.0676 - accuracy: 0.9752 - val_loss: 12.8686 - val_accuracy: 0.5114\n",
            "Epoch 5/20\n",
            "625/625 [==============================] - 161s 258ms/step - loss: 0.0517 - accuracy: 0.9821 - val_loss: 3.3943 - val_accuracy: 0.5023\n",
            "Epoch 6/20\n",
            "625/625 [==============================] - 162s 259ms/step - loss: 0.0479 - accuracy: 0.9842 - val_loss: 0.1813 - val_accuracy: 0.9358\n",
            "Epoch 7/20\n",
            "625/625 [==============================] - 162s 259ms/step - loss: 0.0604 - accuracy: 0.9788 - val_loss: 2.1257 - val_accuracy: 0.5308\n",
            "Epoch 8/20\n",
            "625/625 [==============================] - 159s 255ms/step - loss: 0.0443 - accuracy: 0.9862 - val_loss: 0.0201 - val_accuracy: 0.9945\n",
            "Epoch 9/20\n",
            "625/625 [==============================] - 161s 258ms/step - loss: 0.0483 - accuracy: 0.9824 - val_loss: 5.1973 - val_accuracy: 0.4993\n",
            "Epoch 10/20\n",
            "625/625 [==============================] - 161s 257ms/step - loss: 0.0420 - accuracy: 0.9859 - val_loss: 0.2642 - val_accuracy: 0.9335\n",
            "Epoch 11/20\n",
            "625/625 [==============================] - 162s 259ms/step - loss: 0.0496 - accuracy: 0.9854 - val_loss: 7.7339 - val_accuracy: 0.5003\n",
            "Epoch 12/20\n",
            "625/625 [==============================] - 159s 256ms/step - loss: 0.0463 - accuracy: 0.9857 - val_loss: 0.1843 - val_accuracy: 0.9767\n",
            "Epoch 13/20\n",
            "625/625 [==============================] - 163s 261ms/step - loss: 0.0470 - accuracy: 0.9815 - val_loss: 0.2384 - val_accuracy: 0.9428\n",
            "Epoch 14/20\n",
            "625/625 [==============================] - 160s 256ms/step - loss: 0.0353 - accuracy: 0.9892 - val_loss: 0.4337 - val_accuracy: 0.8324\n",
            "Epoch 15/20\n",
            "625/625 [==============================] - 160s 256ms/step - loss: 0.0558 - accuracy: 0.9830 - val_loss: 6.9565 - val_accuracy: 0.4999\n",
            "Epoch 16/20\n",
            "625/625 [==============================] - 159s 255ms/step - loss: 0.0440 - accuracy: 0.9854 - val_loss: 16.3838 - val_accuracy: 0.4998\n",
            "Epoch 17/20\n",
            "625/625 [==============================] - 160s 256ms/step - loss: 0.0533 - accuracy: 0.9852 - val_loss: 7.6352 - val_accuracy: 0.5004\n",
            "Epoch 18/20\n",
            "625/625 [==============================] - 159s 255ms/step - loss: 0.0272 - accuracy: 0.9909 - val_loss: 0.3285 - val_accuracy: 0.8893\n",
            "Epoch 19/20\n",
            "625/625 [==============================] - 160s 256ms/step - loss: 0.0400 - accuracy: 0.9864 - val_loss: 0.0670 - val_accuracy: 0.9800\n",
            "Epoch 20/20\n",
            "625/625 [==============================] - 159s 255ms/step - loss: 0.0297 - accuracy: 0.9889 - val_loss: 0.0540 - val_accuracy: 0.9826\n"
          ],
          "name": "stdout"
        }
      ]
    },
    {
      "cell_type": "code",
      "metadata": {
        "id": "NDh9Dy_YgtIN"
      },
      "source": [
        "import matplotlib.pyplot as plt"
      ],
      "execution_count": null,
      "outputs": []
    },
    {
      "cell_type": "code",
      "metadata": {
        "id": "aEjYCte7guEN"
      },
      "source": [
        "plt.plot(history.history['loss'], label='train loss')\n",
        "plt.plot(history.history['val_loss'], label='val loss')\n",
        "plt.legend()\n",
        "plt.show()\n",
        "plt.savefig('LossVal_loss')\n",
        "\n",
        "# plot the accuracy\n",
        "plt.plot(history.history['accuracy'], label='train acc')\n",
        "plt.plot(history.history['val_accuracy'], label='val acc')\n",
        "plt.legend()\n",
        "plt.show()\n",
        "plt.savefig('AccVal_acc')"
      ],
      "execution_count": null,
      "outputs": []
    }
  ]
}