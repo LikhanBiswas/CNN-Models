{
  "nbformat": 4,
  "nbformat_minor": 0,
  "metadata": {
    "colab": {
      "name": "Copy of custom cnn model v3.ipynb",
      "provenance": [],
      "authorship_tag": "ABX9TyNkTpt/tyUDKuDAURGhx8vH",
      "include_colab_link": true
    },
    "kernelspec": {
      "name": "python3",
      "display_name": "Python 3"
    },
    "language_info": {
      "name": "python"
    },
    "accelerator": "GPU"
  },
  "cells": [
    {
      "cell_type": "markdown",
      "metadata": {
        "id": "view-in-github",
        "colab_type": "text"
      },
      "source": [
        "<a href=\"https://colab.research.google.com/github/LikhanBiswas/CNN-Models/blob/main/Copy_of_custom_cnn_model_v3.ipynb\" target=\"_parent\"><img src=\"https://colab.research.google.com/assets/colab-badge.svg\" alt=\"Open In Colab\"/></a>"
      ]
    },
    {
      "cell_type": "code",
      "metadata": {
        "id": "JVaBBQ_1SU4e"
      },
      "source": [
        "from keras.layers import Dense, Flatten, Conv2D, MaxPooling2D, BatchNormalization, GlobalAveragePooling2D\n",
        "from keras.applications.imagenet_utils import preprocess_input\n",
        "from keras.models import Model\n",
        "from keras import models\n",
        "import keras\n",
        "from keras import regularizers"
      ],
      "execution_count": 2,
      "outputs": []
    },
    {
      "cell_type": "code",
      "metadata": {
        "id": "rTxT_hAfaIVs"
      },
      "source": [
        "my_model= models.Sequential()"
      ],
      "execution_count": 3,
      "outputs": []
    },
    {
      "cell_type": "code",
      "metadata": {
        "id": "I_Moxw_5adgc"
      },
      "source": [
        "# Add first convolutional block\n",
        "my_model.add(Conv2D(32, (3, 3), activation='relu', padding='same', input_shape=(215,215,3)))\n",
        "my_model.add(MaxPooling2D((2, 2), strides=(2,2), padding='same'))\n",
        "\n",
        "# second block\n",
        "my_model.add(Conv2D(32, (3, 3), activation='relu', padding='same'))\n",
        "my_model.add(MaxPooling2D((2, 2),strides=(2,2), padding='same'))\n",
        "# third block\n",
        "my_model.add(Conv2D(64, (3, 3), activation='relu', padding='same'))\n",
        "my_model.add(MaxPooling2D((2, 2), strides=(2,2), padding='same'))\n",
        "# fourth block\n",
        "my_model.add(Conv2D(128, (3, 3), activation='relu', padding='same'))\n",
        "my_model.add(MaxPooling2D((2, 2), strides=(2,2), padding='same'))\n",
        "#fifth block\n",
        "my_model.add(Conv2D(128, (3, 3), activation='relu', padding='same'))\n",
        "my_model.add(Conv2D(128, (3, 3), activation='relu', padding='same'))\n",
        "my_model.add(MaxPooling2D((2, 2), strides=(2,2), padding='same'))\n",
        "#sixth block\n",
        "my_model.add(Conv2D(256, (3, 3), activation='relu', padding='same'))\n",
        "my_model.add(Conv2D(256, (3, 3), activation='relu', padding='same'))\n",
        "my_model.add(Conv2D(256, (3, 3), activation='relu', padding='same'))\n",
        "my_model.add(MaxPooling2D((2, 2), strides=(2,2), padding='same'))\n",
        "#seventh block\n",
        "my_model.add(Conv2D(512, (3, 3), activation='relu', padding='same'))\n",
        "my_model.add(Conv2D(512, (3, 3), activation='relu', padding='same'))\n",
        "my_model.add(Conv2D(512, (3, 3), activation='relu', padding='same'))\n",
        "my_model.add(MaxPooling2D((2, 2), strides=(2,2), padding='same'))"
      ],
      "execution_count": 4,
      "outputs": []
    },
    {
      "cell_type": "code",
      "metadata": {
        "id": "VVI-ZuLZcqQq"
      },
      "source": [
        "my_model.add(GlobalAveragePooling2D())\n",
        "# fully connected layer\n",
        "my_model.add(Dense(64, activation='relu'))\n",
        "my_model.add(BatchNormalization())\n",
        "# make predictions\n",
        "my_model.add(Dense(1, activation='sigmoid'))\n"
      ],
      "execution_count": 5,
      "outputs": []
    },
    {
      "cell_type": "code",
      "metadata": {
        "colab": {
          "base_uri": "https://localhost:8080/"
        },
        "id": "xttTiTacc18p",
        "outputId": "b9ad04df-71eb-45af-c802-fd61d0d9c30f"
      },
      "source": [
        "# Show a summary of the model. Check the number of trainable parameters\n",
        "my_model.summary()"
      ],
      "execution_count": 6,
      "outputs": [
        {
          "output_type": "stream",
          "text": [
            "Model: \"sequential\"\n",
            "_________________________________________________________________\n",
            "Layer (type)                 Output Shape              Param #   \n",
            "=================================================================\n",
            "conv2d (Conv2D)              (None, 215, 215, 32)      896       \n",
            "_________________________________________________________________\n",
            "max_pooling2d (MaxPooling2D) (None, 108, 108, 32)      0         \n",
            "_________________________________________________________________\n",
            "conv2d_1 (Conv2D)            (None, 108, 108, 32)      9248      \n",
            "_________________________________________________________________\n",
            "max_pooling2d_1 (MaxPooling2 (None, 54, 54, 32)        0         \n",
            "_________________________________________________________________\n",
            "conv2d_2 (Conv2D)            (None, 54, 54, 64)        18496     \n",
            "_________________________________________________________________\n",
            "max_pooling2d_2 (MaxPooling2 (None, 27, 27, 64)        0         \n",
            "_________________________________________________________________\n",
            "conv2d_3 (Conv2D)            (None, 27, 27, 128)       73856     \n",
            "_________________________________________________________________\n",
            "max_pooling2d_3 (MaxPooling2 (None, 14, 14, 128)       0         \n",
            "_________________________________________________________________\n",
            "conv2d_4 (Conv2D)            (None, 14, 14, 128)       147584    \n",
            "_________________________________________________________________\n",
            "conv2d_5 (Conv2D)            (None, 14, 14, 128)       147584    \n",
            "_________________________________________________________________\n",
            "max_pooling2d_4 (MaxPooling2 (None, 7, 7, 128)         0         \n",
            "_________________________________________________________________\n",
            "conv2d_6 (Conv2D)            (None, 7, 7, 256)         295168    \n",
            "_________________________________________________________________\n",
            "conv2d_7 (Conv2D)            (None, 7, 7, 256)         590080    \n",
            "_________________________________________________________________\n",
            "conv2d_8 (Conv2D)            (None, 7, 7, 256)         590080    \n",
            "_________________________________________________________________\n",
            "max_pooling2d_5 (MaxPooling2 (None, 4, 4, 256)         0         \n",
            "_________________________________________________________________\n",
            "conv2d_9 (Conv2D)            (None, 4, 4, 512)         1180160   \n",
            "_________________________________________________________________\n",
            "conv2d_10 (Conv2D)           (None, 4, 4, 512)         2359808   \n",
            "_________________________________________________________________\n",
            "conv2d_11 (Conv2D)           (None, 4, 4, 512)         2359808   \n",
            "_________________________________________________________________\n",
            "max_pooling2d_6 (MaxPooling2 (None, 2, 2, 512)         0         \n",
            "_________________________________________________________________\n",
            "global_average_pooling2d (Gl (None, 512)               0         \n",
            "_________________________________________________________________\n",
            "dense (Dense)                (None, 64)                32832     \n",
            "_________________________________________________________________\n",
            "batch_normalization (BatchNo (None, 64)                256       \n",
            "_________________________________________________________________\n",
            "dense_1 (Dense)              (None, 1)                 65        \n",
            "=================================================================\n",
            "Total params: 7,805,921\n",
            "Trainable params: 7,805,793\n",
            "Non-trainable params: 128\n",
            "_________________________________________________________________\n"
          ],
          "name": "stdout"
        }
      ]
    },
    {
      "cell_type": "code",
      "metadata": {
        "colab": {
          "base_uri": "https://localhost:8080/"
        },
        "id": "ggVRrBPnek94",
        "outputId": "9acb5aa0-2605-4662-b7be-dce1d80ac0b2"
      },
      "source": [
        "from google.colab import drive\n",
        "drive.mount('/content/drive')"
      ],
      "execution_count": 7,
      "outputs": [
        {
          "output_type": "stream",
          "text": [
            "Drive already mounted at /content/drive; to attempt to forcibly remount, call drive.mount(\"/content/drive\", force_remount=True).\n"
          ],
          "name": "stdout"
        }
      ]
    },
    {
      "cell_type": "code",
      "metadata": {
        "id": "-fpzVNrOioWT"
      },
      "source": [
        "from tensorflow.python.keras.callbacks import EarlyStopping, ModelCheckpoint\n",
        "es=EarlyStopping(monitor='val_loss', mode='min', verbose=1, patience=5)\n",
        "\n",
        "# save best model automatically\n",
        "#mc= ModelCheckpoint('/content/drive/MyDrive/extension/custom_cnn.h5', monitor='val_loss', \n",
        "                    #mode='min', verbose=1, save_best_only=True)\n",
        "#cb_list=[es,mc]"
      ],
      "execution_count": 8,
      "outputs": []
    },
    {
      "cell_type": "code",
      "metadata": {
        "id": "bF-5puLNhw9h"
      },
      "source": [
        "x = Flatten()(my_model.output)\n",
        "prediction = Dense(1, activation='sigmoid')(x)\n"
      ],
      "execution_count": 9,
      "outputs": []
    },
    {
      "cell_type": "code",
      "metadata": {
        "id": "7zeRD5bvhheA"
      },
      "source": [
        "for layer in my_model.layers:\n",
        "    layer.kernel_regularizer = keras.regularizers.l1_l2(0.01)"
      ],
      "execution_count": 10,
      "outputs": []
    },
    {
      "cell_type": "code",
      "metadata": {
        "id": "gcXVG09RdFu5"
      },
      "source": [
        "my_model.compile(optimizer='adam', loss='binary_crossentropy', \n",
        "                 metrics=['accuracy'])"
      ],
      "execution_count": 11,
      "outputs": []
    },
    {
      "cell_type": "code",
      "metadata": {
        "id": "w4Gt8Rz_d8Zj"
      },
      "source": [
        "from tensorflow.python.keras.preprocessing.image import ImageDataGenerator\n",
        "\n",
        "# set up data generator\n",
        "data_generator = ImageDataGenerator(preprocessing_function=preprocess_input)\n"
      ],
      "execution_count": 12,
      "outputs": []
    },
    {
      "cell_type": "code",
      "metadata": {
        "id": "byyH0GyVexUw"
      },
      "source": [
        "train_path = '/content/drive/MyDrive/real vs fake/NEW_TRAIN_10K'\n",
        "valid_path = '/content/drive/MyDrive/real vs fake/test'"
      ],
      "execution_count": 13,
      "outputs": []
    },
    {
      "cell_type": "code",
      "metadata": {
        "id": "3Bb9AnaVfWQw"
      },
      "source": [
        "data_generator = ImageDataGenerator(rescale = 1./255,\n",
        "                                   shear_range = 0.1,\n",
        "                                   zoom_range=0.1,\n",
        "                                   rotation_range=90,\n",
        "                                   width_shift_range=0.1,\n",
        "                                   #fill_mode='wrap',\n",
        "                                   height_shift_range=0.1,\n",
        "                                   #channel_shift_range=150.0,\n",
        "                                   brightness_range=(0.1, 0.5),\n",
        "                                   vertical_flip=True,\n",
        "                                   horizontal_flip = True)\n",
        "\n",
        "test_datagen = ImageDataGenerator(rescale = 1./255)"
      ],
      "execution_count": 14,
      "outputs": []
    },
    {
      "cell_type": "code",
      "metadata": {
        "colab": {
          "base_uri": "https://localhost:8080/"
        },
        "id": "SWghfROSeRbL",
        "outputId": "52642681-7db4-4b66-d048-823e8e4a0ac2"
      },
      "source": [
        "# get batches of training images from the directory\n",
        "train_generator = data_generator.flow_from_directory(\n",
        "        '/content/drive/MyDrive/real vs fake/NEW_TRAIN_10K',\n",
        "        target_size=(215, 215),\n",
        "        batch_size=32,\n",
        "        class_mode='binary')\n",
        "\n",
        "# get batches of validation images from the directory\n",
        "validation_generator = test_datagen.flow_from_directory(\n",
        "        '/content/drive/MyDrive/real vs fake/test',\n",
        "        target_size=(215, 215),\n",
        "        batch_size=32,\n",
        "        class_mode='binary')"
      ],
      "execution_count": 15,
      "outputs": [
        {
          "output_type": "stream",
          "text": [
            "Found 10000 images belonging to 2 classes.\n",
            "Found 3000 images belonging to 2 classes.\n"
          ],
          "name": "stdout"
        }
      ]
    },
    {
      "cell_type": "code",
      "metadata": {
        "colab": {
          "base_uri": "https://localhost:8080/"
        },
        "id": "Bw_MEi6Mg0cs",
        "outputId": "5e9366ec-78c8-4a02-aeff-e0c3862d7b0a"
      },
      "source": [
        "history = my_model.fit(\n",
        "        train_generator,\n",
        "        epochs=20,\n",
        "        steps_per_epoch=len(train_generator),\n",
        "        validation_data=validation_generator,\n",
        "        validation_steps=66)"
      ],
      "execution_count": 16,
      "outputs": [
        {
          "output_type": "stream",
          "text": [
            "Epoch 1/20\n",
            "313/313 [==============================] - 143s 428ms/step - loss: 0.2575 - accuracy: 0.8973 - val_loss: 0.0780 - val_accuracy: 0.9735\n",
            "Epoch 2/20\n",
            "313/313 [==============================] - 133s 426ms/step - loss: 0.0956 - accuracy: 0.9668 - val_loss: 18.9082 - val_accuracy: 0.4920\n",
            "Epoch 3/20\n",
            "313/313 [==============================] - 133s 425ms/step - loss: 0.0395 - accuracy: 0.9874 - val_loss: 0.7253 - val_accuracy: 0.7869\n",
            "Epoch 4/20\n",
            "313/313 [==============================] - 133s 426ms/step - loss: 0.0366 - accuracy: 0.9874 - val_loss: 0.1256 - val_accuracy: 0.9474\n",
            "Epoch 5/20\n",
            "313/313 [==============================] - 134s 426ms/step - loss: 0.0274 - accuracy: 0.9913 - val_loss: 0.7327 - val_accuracy: 0.8021\n",
            "Epoch 6/20\n",
            "313/313 [==============================] - 134s 427ms/step - loss: 0.0270 - accuracy: 0.9905 - val_loss: 0.0700 - val_accuracy: 0.9787\n",
            "Epoch 7/20\n",
            "313/313 [==============================] - 133s 426ms/step - loss: 0.0230 - accuracy: 0.9927 - val_loss: 0.0480 - val_accuracy: 0.9877\n",
            "Epoch 8/20\n",
            "313/313 [==============================] - 133s 426ms/step - loss: 0.0180 - accuracy: 0.9941 - val_loss: 0.0119 - val_accuracy: 0.9976\n",
            "Epoch 9/20\n",
            "313/313 [==============================] - 133s 425ms/step - loss: 0.0223 - accuracy: 0.9920 - val_loss: 0.0069 - val_accuracy: 0.9981\n",
            "Epoch 10/20\n",
            "313/313 [==============================] - 133s 425ms/step - loss: 0.0132 - accuracy: 0.9960 - val_loss: 0.0125 - val_accuracy: 0.9953\n",
            "Epoch 11/20\n",
            "313/313 [==============================] - 133s 426ms/step - loss: 0.0224 - accuracy: 0.9919 - val_loss: 0.0666 - val_accuracy: 0.9834\n",
            "Epoch 12/20\n",
            "313/313 [==============================] - 133s 425ms/step - loss: 0.0178 - accuracy: 0.9942 - val_loss: 0.1910 - val_accuracy: 0.9612\n",
            "Epoch 13/20\n",
            "313/313 [==============================] - 134s 428ms/step - loss: 0.0174 - accuracy: 0.9939 - val_loss: 0.5752 - val_accuracy: 0.8494\n",
            "Epoch 14/20\n",
            "313/313 [==============================] - 134s 429ms/step - loss: 0.0196 - accuracy: 0.9933 - val_loss: 0.0618 - val_accuracy: 0.9792\n",
            "Epoch 15/20\n",
            "313/313 [==============================] - 134s 428ms/step - loss: 0.0169 - accuracy: 0.9943 - val_loss: 0.2328 - val_accuracy: 0.8987\n",
            "Epoch 16/20\n",
            "313/313 [==============================] - 134s 428ms/step - loss: 0.0132 - accuracy: 0.9948 - val_loss: 0.0187 - val_accuracy: 0.9943\n",
            "Epoch 17/20\n",
            "313/313 [==============================] - 134s 427ms/step - loss: 0.0152 - accuracy: 0.9947 - val_loss: 0.0070 - val_accuracy: 0.9981\n",
            "Epoch 18/20\n",
            "313/313 [==============================] - 134s 428ms/step - loss: 0.0130 - accuracy: 0.9955 - val_loss: 0.0963 - val_accuracy: 0.9759\n",
            "Epoch 19/20\n",
            "313/313 [==============================] - 134s 427ms/step - loss: 0.0145 - accuracy: 0.9958 - val_loss: 0.0058 - val_accuracy: 0.9972\n",
            "Epoch 20/20\n",
            "313/313 [==============================] - 134s 428ms/step - loss: 0.0123 - accuracy: 0.9963 - val_loss: 0.0526 - val_accuracy: 0.9825\n"
          ],
          "name": "stdout"
        }
      ]
    },
    {
      "cell_type": "code",
      "metadata": {
        "id": "NDh9Dy_YgtIN"
      },
      "source": [
        "import matplotlib.pyplot as plt"
      ],
      "execution_count": 17,
      "outputs": []
    },
    {
      "cell_type": "code",
      "metadata": {
        "id": "aEjYCte7guEN",
        "colab": {
          "base_uri": "https://localhost:8080/",
          "height": 530
        },
        "outputId": "8d7387b1-4e7f-464c-ae5f-c296263e2187"
      },
      "source": [
        "plt.plot(history.history['loss'], label='train loss')\n",
        "plt.plot(history.history['val_loss'], label='val loss')\n",
        "plt.legend()\n",
        "plt.show()\n",
        "plt.savefig('LossVal_loss')\n",
        "\n",
        "# plot the accuracy\n",
        "plt.plot(history.history['accuracy'], label='train acc')\n",
        "plt.plot(history.history['val_accuracy'], label='val acc')\n",
        "plt.legend()\n",
        "plt.show()\n",
        "plt.savefig('AccVal_acc')"
      ],
      "execution_count": 18,
      "outputs": [
        {
          "output_type": "display_data",
          "data": {
            "image/png": "[encoded data removed]",
            "text/plain": [
              "<Figure size 432x288 with 1 Axes>"
            ]
          },
          "metadata": {
            "needs_background": "light"
          }
        },
        {
          "output_type": "display_data",
          "data": {
            "image/png": "[encoded data removed]",
            "text/plain": [
              "<Figure size 432x288 with 1 Axes>"
            ]
          },
          "metadata": {
            "needs_background": "light"
          }
        },
        {
          "output_type": "display_data",
          "data": {
            "text/plain": [
              "<Figure size 432x288 with 0 Axes>"
            ]
          },
          "metadata": {}
        }
      ]
    }
  ]
}